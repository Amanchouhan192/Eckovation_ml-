{
 "cells": [
  {
   "cell_type": "code",
   "execution_count": 1,
   "metadata": {
    "collapsed": true
   },
   "outputs": [],
   "source": [
    "import pandas as pd\n",
    "import matplotlib.pyplot as plt\n",
    "import numpy as np"
   ]
  },
  {
   "cell_type": "code",
   "execution_count": 2,
   "metadata": {
    "collapsed": true
   },
   "outputs": [],
   "source": [
    "import sklearn\n",
    "import sklearn.linear_model\n",
    "import matplotlib.pyplot as plt"
   ]
  },
  {
   "cell_type": "code",
   "execution_count": 3,
   "metadata": {
    "collapsed": true
   },
   "outputs": [],
   "source": [
    "import numpy as np"
   ]
  },
  {
   "cell_type": "code",
   "execution_count": 4,
   "metadata": {
    "collapsed": true
   },
   "outputs": [],
   "source": [
    "data = pd.read_csv(\"Oil_gas.csv\")"
   ]
  },
  {
   "cell_type": "code",
   "execution_count": 7,
   "metadata": {},
   "outputs": [
    {
     "data": {
      "text/html": [
       "<div>\n",
       "<style>\n",
       "    .dataframe thead tr:only-child th {\n",
       "        text-align: right;\n",
       "    }\n",
       "\n",
       "    .dataframe thead th {\n",
       "        text-align: left;\n",
       "    }\n",
       "\n",
       "    .dataframe tbody tr th {\n",
       "        vertical-align: top;\n",
       "    }\n",
       "</style>\n",
       "<table border=\"1\" class=\"dataframe\">\n",
       "  <thead>\n",
       "    <tr style=\"text-align: right;\">\n",
       "      <th></th>\n",
       "      <th>iso3numeric</th>\n",
       "      <th>year</th>\n",
       "      <th>oil_prod32_14</th>\n",
       "      <th>oil_price_2000</th>\n",
       "      <th>oil_price_nom</th>\n",
       "      <th>oil_value_nom</th>\n",
       "      <th>oil_value_2000</th>\n",
       "      <th>oil_value_2014</th>\n",
       "      <th>gas_prod55_14</th>\n",
       "      <th>gas_price_2000_mboe</th>\n",
       "      <th>...</th>\n",
       "      <th>net_gas_exports_mboe</th>\n",
       "      <th>net_gas_exports_value</th>\n",
       "      <th>net_gas_exports_valuePOP</th>\n",
       "      <th>net_oil_gas_exports_valuePOP</th>\n",
       "      <th>population</th>\n",
       "      <th>pop_maddison</th>\n",
       "      <th>sovereign</th>\n",
       "      <th>mult_nom_2000</th>\n",
       "      <th>mult_nom_2014</th>\n",
       "      <th>mult_2000_2014</th>\n",
       "    </tr>\n",
       "  </thead>\n",
       "  <tbody>\n",
       "    <tr>\n",
       "      <th>count</th>\n",
       "      <td>15521.000000</td>\n",
       "      <td>15521.000000</td>\n",
       "      <td>1.010300e+04</td>\n",
       "      <td>15503.000000</td>\n",
       "      <td>15521.000000</td>\n",
       "      <td>1.010300e+04</td>\n",
       "      <td>1.010300e+04</td>\n",
       "      <td>1.010300e+04</td>\n",
       "      <td>8812.000000</td>\n",
       "      <td>1.552100e+04</td>\n",
       "      <td>...</td>\n",
       "      <td>4016.000000</td>\n",
       "      <td>3.880000e+03</td>\n",
       "      <td>3875.000000</td>\n",
       "      <td>3875.000000</td>\n",
       "      <td>1.290100e+04</td>\n",
       "      <td>1.180400e+04</td>\n",
       "      <td>15521.000000</td>\n",
       "      <td>15521.000000</td>\n",
       "      <td>15521.000000</td>\n",
       "      <td>1.552100e+04</td>\n",
       "    </tr>\n",
       "    <tr>\n",
       "      <th>mean</th>\n",
       "      <td>440.102055</td>\n",
       "      <td>1973.000000</td>\n",
       "      <td>1.834108e+07</td>\n",
       "      <td>26.513076</td>\n",
       "      <td>19.407381</td>\n",
       "      <td>4.049737e+09</td>\n",
       "      <td>4.777023e+09</td>\n",
       "      <td>6.567325e+09</td>\n",
       "      <td>100.702009</td>\n",
       "      <td>1.403597e+07</td>\n",
       "      <td>...</td>\n",
       "      <td>-0.357088</td>\n",
       "      <td>-1.944983e+07</td>\n",
       "      <td>60.045237</td>\n",
       "      <td>338.550092</td>\n",
       "      <td>2.822745e+07</td>\n",
       "      <td>2.729075e+07</td>\n",
       "      <td>0.676954</td>\n",
       "      <td>4.674194</td>\n",
       "      <td>6.425958</td>\n",
       "      <td>1.374774e+00</td>\n",
       "    </tr>\n",
       "    <tr>\n",
       "      <th>std</th>\n",
       "      <td>266.690184</td>\n",
       "      <td>23.959069</td>\n",
       "      <td>6.384938e+07</td>\n",
       "      <td>21.459869</td>\n",
       "      <td>27.819908</td>\n",
       "      <td>2.017801e+10</td>\n",
       "      <td>2.100122e+10</td>\n",
       "      <td>2.887193e+10</td>\n",
       "      <td>462.242415</td>\n",
       "      <td>1.102009e+07</td>\n",
       "      <td>...</td>\n",
       "      <td>146.611793</td>\n",
       "      <td>3.552873e+09</td>\n",
       "      <td>562.366542</td>\n",
       "      <td>2182.837956</td>\n",
       "      <td>9.860353e+07</td>\n",
       "      <td>9.488217e+07</td>\n",
       "      <td>0.467655</td>\n",
       "      <td>3.873224</td>\n",
       "      <td>5.324805</td>\n",
       "      <td>8.016068e-14</td>\n",
       "    </tr>\n",
       "    <tr>\n",
       "      <th>min</th>\n",
       "      <td>4.000000</td>\n",
       "      <td>1932.000000</td>\n",
       "      <td>0.000000e+00</td>\n",
       "      <td>7.879107</td>\n",
       "      <td>0.670000</td>\n",
       "      <td>0.000000e+00</td>\n",
       "      <td>0.000000e+00</td>\n",
       "      <td>0.000000e+00</td>\n",
       "      <td>0.000000</td>\n",
       "      <td>0.000000e+00</td>\n",
       "      <td>...</td>\n",
       "      <td>-810.271076</td>\n",
       "      <td>-3.290943e+10</td>\n",
       "      <td>-918.095672</td>\n",
       "      <td>-7760.660272</td>\n",
       "      <td>2.510100e+04</td>\n",
       "      <td>2.510100e+04</td>\n",
       "      <td>0.000000</td>\n",
       "      <td>0.727393</td>\n",
       "      <td>1.000000</td>\n",
       "      <td>1.374774e+00</td>\n",
       "    </tr>\n",
       "    <tr>\n",
       "      <th>25%</th>\n",
       "      <td>204.000000</td>\n",
       "      <td>1952.000000</td>\n",
       "      <td>0.000000e+00</td>\n",
       "      <td>11.710310</td>\n",
       "      <td>1.800000</td>\n",
       "      <td>0.000000e+00</td>\n",
       "      <td>0.000000e+00</td>\n",
       "      <td>0.000000e+00</td>\n",
       "      <td>0.000000</td>\n",
       "      <td>0.000000e+00</td>\n",
       "      <td>...</td>\n",
       "      <td>-5.524986</td>\n",
       "      <td>-8.709102e+07</td>\n",
       "      <td>-8.372933</td>\n",
       "      <td>-81.010366</td>\n",
       "      <td>2.194275e+06</td>\n",
       "      <td>2.108201e+06</td>\n",
       "      <td>0.000000</td>\n",
       "      <td>1.161943</td>\n",
       "      <td>1.597409</td>\n",
       "      <td>1.374774e+00</td>\n",
       "    </tr>\n",
       "    <tr>\n",
       "      <th>50%</th>\n",
       "      <td>422.000000</td>\n",
       "      <td>1973.000000</td>\n",
       "      <td>4.980000e+04</td>\n",
       "      <td>14.067980</td>\n",
       "      <td>3.290000</td>\n",
       "      <td>2.064857e+06</td>\n",
       "      <td>7.171990e+06</td>\n",
       "      <td>9.859862e+06</td>\n",
       "      <td>0.000000</td>\n",
       "      <td>1.472159e+07</td>\n",
       "      <td>...</td>\n",
       "      <td>0.000000</td>\n",
       "      <td>0.000000e+00</td>\n",
       "      <td>0.000000</td>\n",
       "      <td>0.000000</td>\n",
       "      <td>6.469000e+06</td>\n",
       "      <td>6.178436e+06</td>\n",
       "      <td>1.000000</td>\n",
       "      <td>3.876222</td>\n",
       "      <td>5.328927</td>\n",
       "      <td>1.374774e+00</td>\n",
       "    </tr>\n",
       "    <tr>\n",
       "      <th>75%</th>\n",
       "      <td>694.000000</td>\n",
       "      <td>1994.000000</td>\n",
       "      <td>4.025170e+06</td>\n",
       "      <td>36.535130</td>\n",
       "      <td>25.023256</td>\n",
       "      <td>3.808598e+08</td>\n",
       "      <td>6.935786e+08</td>\n",
       "      <td>9.535135e+08</td>\n",
       "      <td>21.684397</td>\n",
       "      <td>1.915340e+07</td>\n",
       "      <td>...</td>\n",
       "      <td>0.000000</td>\n",
       "      <td>0.000000e+00</td>\n",
       "      <td>0.000000</td>\n",
       "      <td>17.434919</td>\n",
       "      <td>1.932096e+07</td>\n",
       "      <td>1.863778e+07</td>\n",
       "      <td>1.000000</td>\n",
       "      <td>6.483330</td>\n",
       "      <td>8.913110</td>\n",
       "      <td>1.374774e+00</td>\n",
       "    </tr>\n",
       "    <tr>\n",
       "      <th>max</th>\n",
       "      <td>998.000000</td>\n",
       "      <td>2014.000000</td>\n",
       "      <td>6.160000e+08</td>\n",
       "      <td>85.170708</td>\n",
       "      <td>111.669702</td>\n",
       "      <td>4.044369e+11</td>\n",
       "      <td>3.401958e+11</td>\n",
       "      <td>4.676922e+11</td>\n",
       "      <td>5605.121816</td>\n",
       "      <td>4.877320e+07</td>\n",
       "      <td>...</td>\n",
       "      <td>1309.582987</td>\n",
       "      <td>6.281075e+10</td>\n",
       "      <td>11205.517349</td>\n",
       "      <td>32331.463722</td>\n",
       "      <td>1.364270e+09</td>\n",
       "      <td>1.331400e+09</td>\n",
       "      <td>1.000000</td>\n",
       "      <td>13.280064</td>\n",
       "      <td>18.257080</td>\n",
       "      <td>1.374774e+00</td>\n",
       "    </tr>\n",
       "  </tbody>\n",
       "</table>\n",
       "<p>8 rows × 38 columns</p>\n",
       "</div>"
      ],
      "text/plain": [
       "        iso3numeric          year  oil_prod32_14  oil_price_2000  \\\n",
       "count  15521.000000  15521.000000   1.010300e+04    15503.000000   \n",
       "mean     440.102055   1973.000000   1.834108e+07       26.513076   \n",
       "std      266.690184     23.959069   6.384938e+07       21.459869   \n",
       "min        4.000000   1932.000000   0.000000e+00        7.879107   \n",
       "25%      204.000000   1952.000000   0.000000e+00       11.710310   \n",
       "50%      422.000000   1973.000000   4.980000e+04       14.067980   \n",
       "75%      694.000000   1994.000000   4.025170e+06       36.535130   \n",
       "max      998.000000   2014.000000   6.160000e+08       85.170708   \n",
       "\n",
       "       oil_price_nom  oil_value_nom  oil_value_2000  oil_value_2014  \\\n",
       "count   15521.000000   1.010300e+04    1.010300e+04    1.010300e+04   \n",
       "mean       19.407381   4.049737e+09    4.777023e+09    6.567325e+09   \n",
       "std        27.819908   2.017801e+10    2.100122e+10    2.887193e+10   \n",
       "min         0.670000   0.000000e+00    0.000000e+00    0.000000e+00   \n",
       "25%         1.800000   0.000000e+00    0.000000e+00    0.000000e+00   \n",
       "50%         3.290000   2.064857e+06    7.171990e+06    9.859862e+06   \n",
       "75%        25.023256   3.808598e+08    6.935786e+08    9.535135e+08   \n",
       "max       111.669702   4.044369e+11    3.401958e+11    4.676922e+11   \n",
       "\n",
       "       gas_prod55_14  gas_price_2000_mboe       ...        \\\n",
       "count    8812.000000         1.552100e+04       ...         \n",
       "mean      100.702009         1.403597e+07       ...         \n",
       "std       462.242415         1.102009e+07       ...         \n",
       "min         0.000000         0.000000e+00       ...         \n",
       "25%         0.000000         0.000000e+00       ...         \n",
       "50%         0.000000         1.472159e+07       ...         \n",
       "75%        21.684397         1.915340e+07       ...         \n",
       "max      5605.121816         4.877320e+07       ...         \n",
       "\n",
       "       net_gas_exports_mboe  net_gas_exports_value  net_gas_exports_valuePOP  \\\n",
       "count           4016.000000           3.880000e+03               3875.000000   \n",
       "mean              -0.357088          -1.944983e+07                 60.045237   \n",
       "std              146.611793           3.552873e+09                562.366542   \n",
       "min             -810.271076          -3.290943e+10               -918.095672   \n",
       "25%               -5.524986          -8.709102e+07                 -8.372933   \n",
       "50%                0.000000           0.000000e+00                  0.000000   \n",
       "75%                0.000000           0.000000e+00                  0.000000   \n",
       "max             1309.582987           6.281075e+10              11205.517349   \n",
       "\n",
       "       net_oil_gas_exports_valuePOP    population  pop_maddison     sovereign  \\\n",
       "count                   3875.000000  1.290100e+04  1.180400e+04  15521.000000   \n",
       "mean                     338.550092  2.822745e+07  2.729075e+07      0.676954   \n",
       "std                     2182.837956  9.860353e+07  9.488217e+07      0.467655   \n",
       "min                    -7760.660272  2.510100e+04  2.510100e+04      0.000000   \n",
       "25%                      -81.010366  2.194275e+06  2.108201e+06      0.000000   \n",
       "50%                        0.000000  6.469000e+06  6.178436e+06      1.000000   \n",
       "75%                       17.434919  1.932096e+07  1.863778e+07      1.000000   \n",
       "max                    32331.463722  1.364270e+09  1.331400e+09      1.000000   \n",
       "\n",
       "       mult_nom_2000  mult_nom_2014  mult_2000_2014  \n",
       "count   15521.000000   15521.000000    1.552100e+04  \n",
       "mean        4.674194       6.425958    1.374774e+00  \n",
       "std         3.873224       5.324805    8.016068e-14  \n",
       "min         0.727393       1.000000    1.374774e+00  \n",
       "25%         1.161943       1.597409    1.374774e+00  \n",
       "50%         3.876222       5.328927    1.374774e+00  \n",
       "75%         6.483330       8.913110    1.374774e+00  \n",
       "max        13.280064      18.257080    1.374774e+00  \n",
       "\n",
       "[8 rows x 38 columns]"
      ]
     },
     "execution_count": 7,
     "metadata": {},
     "output_type": "execute_result"
    }
   ],
   "source": [
    "data.describe()\n"
   ]
  },
  {
   "cell_type": "code",
   "execution_count": 8,
   "metadata": {},
   "outputs": [
    {
     "data": {
      "text/plain": [
       "cty_name                        15521\n",
       "iso3numeric                     15521\n",
       "id                              15521\n",
       "year                            15521\n",
       "eiacty                          15521\n",
       "oil_prod32_14                   15521\n",
       "oil_price_2000                  15521\n",
       "oil_price_nom                   15521\n",
       "oil_value_nom                   15521\n",
       "oil_value_2000                  15521\n",
       "oil_value_2014                  15521\n",
       "gas_prod55_14                   15521\n",
       "gas_price_2000_mboe             15521\n",
       "gas_price_2000                  15521\n",
       "gas_price_nom                   15521\n",
       "gas_value_nom                   15521\n",
       "gas_value_2000                  15521\n",
       "gas_value_2014                  15521\n",
       "oil_gas_value_nom               15521\n",
       "oil_gas_value_2000              15521\n",
       "oil_gas_value_2014              15521\n",
       "oil_gas_valuePOP_nom            15521\n",
       "oil_gas_valuePOP_2000           15521\n",
       "oil_gas_valuePOP_2014           15521\n",
       "oil_exports                     15521\n",
       "net_oil_exports                 15521\n",
       "net_oil_exports_mt              15521\n",
       "net_oil_exports_value           15521\n",
       "net_oil_exports_valuePOP        15521\n",
       "gas_exports                     15521\n",
       "net_gas_exports_bcf             15521\n",
       "net_gas_exports_mboe            15521\n",
       "net_gas_exports_value           15521\n",
       "net_gas_exports_valuePOP        15521\n",
       "net_oil_gas_exports_valuePOP    15521\n",
       "population                      15521\n",
       "pop_maddison                    15521\n",
       "sovereign                       15521\n",
       "mult_nom_2000                   15521\n",
       "mult_nom_2014                   15521\n",
       "mult_2000_2014                  15521\n",
       "dtype: int64"
      ]
     },
     "execution_count": 8,
     "metadata": {},
     "output_type": "execute_result"
    }
   ],
   "source": [
    "data.isnull().count()"
   ]
  },
  {
   "cell_type": "code",
   "execution_count": 10,
   "metadata": {},
   "outputs": [
    {
     "data": {
      "text/html": [
       "<div>\n",
       "<style>\n",
       "    .dataframe thead tr:only-child th {\n",
       "        text-align: right;\n",
       "    }\n",
       "\n",
       "    .dataframe thead th {\n",
       "        text-align: left;\n",
       "    }\n",
       "\n",
       "    .dataframe tbody tr th {\n",
       "        vertical-align: top;\n",
       "    }\n",
       "</style>\n",
       "<table border=\"1\" class=\"dataframe\">\n",
       "  <thead>\n",
       "    <tr style=\"text-align: right;\">\n",
       "      <th></th>\n",
       "      <th>cty_name</th>\n",
       "      <th>iso3numeric</th>\n",
       "      <th>id</th>\n",
       "      <th>year</th>\n",
       "      <th>eiacty</th>\n",
       "      <th>oil_prod32_14</th>\n",
       "      <th>oil_price_2000</th>\n",
       "      <th>oil_price_nom</th>\n",
       "      <th>oil_value_nom</th>\n",
       "      <th>oil_value_2000</th>\n",
       "      <th>...</th>\n",
       "      <th>net_gas_exports_mboe</th>\n",
       "      <th>net_gas_exports_value</th>\n",
       "      <th>net_gas_exports_valuePOP</th>\n",
       "      <th>net_oil_gas_exports_valuePOP</th>\n",
       "      <th>population</th>\n",
       "      <th>pop_maddison</th>\n",
       "      <th>sovereign</th>\n",
       "      <th>mult_nom_2000</th>\n",
       "      <th>mult_nom_2014</th>\n",
       "      <th>mult_2000_2014</th>\n",
       "    </tr>\n",
       "  </thead>\n",
       "  <tbody>\n",
       "    <tr>\n",
       "      <th>0</th>\n",
       "      <td>Afghanistan</td>\n",
       "      <td>4</td>\n",
       "      <td>AFG</td>\n",
       "      <td>1932</td>\n",
       "      <td>Afghanistan</td>\n",
       "      <td>NaN</td>\n",
       "      <td>10.860860</td>\n",
       "      <td>0.87</td>\n",
       "      <td>NaN</td>\n",
       "      <td>NaN</td>\n",
       "      <td>...</td>\n",
       "      <td>NaN</td>\n",
       "      <td>NaN</td>\n",
       "      <td>NaN</td>\n",
       "      <td>NaN</td>\n",
       "      <td>NaN</td>\n",
       "      <td>NaN</td>\n",
       "      <td>1</td>\n",
       "      <td>12.599874</td>\n",
       "      <td>17.321973</td>\n",
       "      <td>1.374774</td>\n",
       "    </tr>\n",
       "    <tr>\n",
       "      <th>1</th>\n",
       "      <td>Afghanistan</td>\n",
       "      <td>4</td>\n",
       "      <td>AFG</td>\n",
       "      <td>1933</td>\n",
       "      <td>Afghanistan</td>\n",
       "      <td>NaN</td>\n",
       "      <td>8.815239</td>\n",
       "      <td>0.67</td>\n",
       "      <td>NaN</td>\n",
       "      <td>NaN</td>\n",
       "      <td>...</td>\n",
       "      <td>NaN</td>\n",
       "      <td>NaN</td>\n",
       "      <td>NaN</td>\n",
       "      <td>NaN</td>\n",
       "      <td>NaN</td>\n",
       "      <td>NaN</td>\n",
       "      <td>1</td>\n",
       "      <td>13.280064</td>\n",
       "      <td>18.257080</td>\n",
       "      <td>1.374774</td>\n",
       "    </tr>\n",
       "    <tr>\n",
       "      <th>2</th>\n",
       "      <td>Afghanistan</td>\n",
       "      <td>4</td>\n",
       "      <td>AFG</td>\n",
       "      <td>1934</td>\n",
       "      <td>Afghanistan</td>\n",
       "      <td>NaN</td>\n",
       "      <td>12.715790</td>\n",
       "      <td>1.00</td>\n",
       "      <td>NaN</td>\n",
       "      <td>NaN</td>\n",
       "      <td>...</td>\n",
       "      <td>NaN</td>\n",
       "      <td>NaN</td>\n",
       "      <td>NaN</td>\n",
       "      <td>NaN</td>\n",
       "      <td>NaN</td>\n",
       "      <td>NaN</td>\n",
       "      <td>1</td>\n",
       "      <td>12.853008</td>\n",
       "      <td>17.669975</td>\n",
       "      <td>1.374774</td>\n",
       "    </tr>\n",
       "    <tr>\n",
       "      <th>3</th>\n",
       "      <td>Afghanistan</td>\n",
       "      <td>4</td>\n",
       "      <td>AFG</td>\n",
       "      <td>1935</td>\n",
       "      <td>Afghanistan</td>\n",
       "      <td>NaN</td>\n",
       "      <td>12.039690</td>\n",
       "      <td>0.97</td>\n",
       "      <td>NaN</td>\n",
       "      <td>NaN</td>\n",
       "      <td>...</td>\n",
       "      <td>NaN</td>\n",
       "      <td>NaN</td>\n",
       "      <td>NaN</td>\n",
       "      <td>NaN</td>\n",
       "      <td>NaN</td>\n",
       "      <td>NaN</td>\n",
       "      <td>1</td>\n",
       "      <td>12.537882</td>\n",
       "      <td>17.236748</td>\n",
       "      <td>1.374774</td>\n",
       "    </tr>\n",
       "    <tr>\n",
       "      <th>4</th>\n",
       "      <td>Afghanistan</td>\n",
       "      <td>4</td>\n",
       "      <td>AFG</td>\n",
       "      <td>1936</td>\n",
       "      <td>Afghanistan</td>\n",
       "      <td>NaN</td>\n",
       "      <td>13.383210</td>\n",
       "      <td>1.09</td>\n",
       "      <td>NaN</td>\n",
       "      <td>NaN</td>\n",
       "      <td>...</td>\n",
       "      <td>NaN</td>\n",
       "      <td>NaN</td>\n",
       "      <td>NaN</td>\n",
       "      <td>NaN</td>\n",
       "      <td>NaN</td>\n",
       "      <td>NaN</td>\n",
       "      <td>1</td>\n",
       "      <td>12.420786</td>\n",
       "      <td>17.075768</td>\n",
       "      <td>1.374774</td>\n",
       "    </tr>\n",
       "  </tbody>\n",
       "</table>\n",
       "<p>5 rows × 41 columns</p>\n",
       "</div>"
      ],
      "text/plain": [
       "      cty_name  iso3numeric   id  year       eiacty  oil_prod32_14  \\\n",
       "0  Afghanistan            4  AFG  1932  Afghanistan            NaN   \n",
       "1  Afghanistan            4  AFG  1933  Afghanistan            NaN   \n",
       "2  Afghanistan            4  AFG  1934  Afghanistan            NaN   \n",
       "3  Afghanistan            4  AFG  1935  Afghanistan            NaN   \n",
       "4  Afghanistan            4  AFG  1936  Afghanistan            NaN   \n",
       "\n",
       "   oil_price_2000  oil_price_nom  oil_value_nom  oil_value_2000  \\\n",
       "0       10.860860           0.87            NaN             NaN   \n",
       "1        8.815239           0.67            NaN             NaN   \n",
       "2       12.715790           1.00            NaN             NaN   \n",
       "3       12.039690           0.97            NaN             NaN   \n",
       "4       13.383210           1.09            NaN             NaN   \n",
       "\n",
       "        ...        net_gas_exports_mboe  net_gas_exports_value  \\\n",
       "0       ...                         NaN                    NaN   \n",
       "1       ...                         NaN                    NaN   \n",
       "2       ...                         NaN                    NaN   \n",
       "3       ...                         NaN                    NaN   \n",
       "4       ...                         NaN                    NaN   \n",
       "\n",
       "   net_gas_exports_valuePOP  net_oil_gas_exports_valuePOP  population  \\\n",
       "0                       NaN                           NaN         NaN   \n",
       "1                       NaN                           NaN         NaN   \n",
       "2                       NaN                           NaN         NaN   \n",
       "3                       NaN                           NaN         NaN   \n",
       "4                       NaN                           NaN         NaN   \n",
       "\n",
       "   pop_maddison  sovereign  mult_nom_2000  mult_nom_2014  mult_2000_2014  \n",
       "0           NaN          1      12.599874      17.321973        1.374774  \n",
       "1           NaN          1      13.280064      18.257080        1.374774  \n",
       "2           NaN          1      12.853008      17.669975        1.374774  \n",
       "3           NaN          1      12.537882      17.236748        1.374774  \n",
       "4           NaN          1      12.420786      17.075768        1.374774  \n",
       "\n",
       "[5 rows x 41 columns]"
      ]
     },
     "execution_count": 10,
     "metadata": {},
     "output_type": "execute_result"
    }
   ],
   "source": [
    "data.head()"
   ]
  },
  {
   "cell_type": "code",
   "execution_count": 33,
   "metadata": {
    "collapsed": true
   },
   "outputs": [],
   "source": [
    "poly = sklearn.preprocessing.PolynomialFeatures(degree=4)"
   ]
  },
  {
   "cell_type": "code",
   "execution_count": 34,
   "metadata": {
    "collapsed": true
   },
   "outputs": [],
   "source": [
    "x = data[\"year\"]\n",
    "x  = np.array(x).reshape(-1,1)\n",
    "#x  = np.array(x).reshape(-1,1)\n",
    "y = data[\"oil_price_nom\"]"
   ]
  },
  {
   "cell_type": "code",
   "execution_count": 35,
   "metadata": {},
   "outputs": [
    {
     "data": {
      "image/png": "[encoded data removed]",
      "text/plain": [
       "<matplotlib.figure.Figure at 0x23964674a58>"
      ]
     },
     "metadata": {},
     "output_type": "display_data"
    }
   ],
   "source": [
    "plt.scatter(x,y)\n",
    "plt.show()"
   ]
  },
  {
   "cell_type": "code",
   "execution_count": 36,
   "metadata": {},
   "outputs": [],
   "source": [
    "x_poly = poly.fit_transform(x)\n",
    "reg = sklearn.linear_model.LinearRegression()"
   ]
  },
  {
   "cell_type": "code",
   "execution_count": 37,
   "metadata": {},
   "outputs": [
    {
     "data": {
      "text/plain": [
       "(15521, 1)"
      ]
     },
     "execution_count": 37,
     "metadata": {},
     "output_type": "execute_result"
    }
   ],
   "source": [
    "x.shape"
   ]
  },
  {
   "cell_type": "code",
   "execution_count": 38,
   "metadata": {},
   "outputs": [
    {
     "data": {
      "text/plain": [
       "LinearRegression(copy_X=True, fit_intercept=True, n_jobs=1, normalize=False)"
      ]
     },
     "execution_count": 38,
     "metadata": {},
     "output_type": "execute_result"
    }
   ],
   "source": [
    "reg.fit(x_poly,y)"
   ]
  },
  {
   "cell_type": "code",
   "execution_count": 39,
   "metadata": {},
   "outputs": [
    {
     "data": {
      "text/plain": [
       "84.258372363980754"
      ]
     },
     "execution_count": 39,
     "metadata": {},
     "output_type": "execute_result"
    }
   ],
   "source": [
    "reg.score(x_poly,y)*100"
   ]
  },
  {
   "cell_type": "code",
   "execution_count": 40,
   "metadata": {},
   "outputs": [
    {
     "data": {
      "text/plain": [
       "array([[  1.00000000e+00,   1.93200000e+03,   3.73262400e+06,\n",
       "          7.21142957e+09,   1.39324819e+13],\n",
       "       [  1.00000000e+00,   1.93300000e+03,   3.73648900e+06,\n",
       "          7.22263324e+09,   1.39613500e+13],\n",
       "       [  1.00000000e+00,   1.93400000e+03,   3.74035600e+06,\n",
       "          7.23384850e+09,   1.39902630e+13],\n",
       "       ..., \n",
       "       [  1.00000000e+00,   2.01200000e+03,   4.04814400e+06,\n",
       "          8.14486573e+09,   1.63874698e+13],\n",
       "       [  1.00000000e+00,   2.01300000e+03,   4.05216900e+06,\n",
       "          8.15701620e+09,   1.64200736e+13],\n",
       "       [  1.00000000e+00,   2.01400000e+03,   4.05619600e+06,\n",
       "          8.16917874e+09,   1.64527260e+13]])"
      ]
     },
     "execution_count": 40,
     "metadata": {},
     "output_type": "execute_result"
    }
   ],
   "source": [
    "x_poly # yaha 1 q aya:"
   ]
  },
  {
   "cell_type": "code",
   "execution_count": 41,
   "metadata": {},
   "outputs": [
    {
     "data": {
      "text/plain": [
       "(15521, 5)"
      ]
     },
     "execution_count": 41,
     "metadata": {},
     "output_type": "execute_result"
    }
   ],
   "source": [
    "x_poly.shape"
   ]
  },
  {
   "cell_type": "code",
   "execution_count": 42,
   "metadata": {},
   "outputs": [
    {
     "data": {
      "text/plain": [
       "'\\nAccuracy - 57% - (degree=1)\\nLinearRegression \\nAccuracy - 77% - (degree=2)\\nLinearRegression \\nAccuracy - 84% - (degree=3)\\nLinearRegression \\nAccuracy - 84% - (degree=4)\\n'"
      ]
     },
     "execution_count": 42,
     "metadata": {},
     "output_type": "execute_result"
    }
   ],
   "source": [
    "'''\n",
    "Accuracy - 57% - (degree=1)\n",
    "LinearRegression \n",
    "Accuracy - 77% - (degree=2)\n",
    "LinearRegression \n",
    "Accuracy - 84% - (degree=3)\n",
    "LinearRegression \n",
    "Accuracy - 84% - (degree=4)\n",
    "'''"
   ]
  },
  {
   "cell_type": "code",
   "execution_count": null,
   "metadata": {
    "collapsed": true
   },
   "outputs": [],
   "source": []
  }
 ],
 "metadata": {
  "kernelspec": {
   "display_name": "Python 3",
   "language": "python",
   "name": "python3"
  },
  "language_info": {
   "codemirror_mode": {
    "name": "ipython",
    "version": 3
   },
   "file_extension": ".py",
   "mimetype": "text/x-python",
   "name": "python",
   "nbconvert_exporter": "python",
   "pygments_lexer": "ipython3",
   "version": "3.6.3"
  }
 },
 "nbformat": 4,
 "nbformat_minor": 2
}
