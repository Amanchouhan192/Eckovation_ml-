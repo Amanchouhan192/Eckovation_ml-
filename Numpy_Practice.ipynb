{
 "cells": [
  {
   "cell_type": "code",
   "execution_count": 3,
   "metadata": {
    "collapsed": true
   },
   "outputs": [],
   "source": [
    "import numpy as np \n",
    "\n",
    " "
   ]
  },
  {
   "cell_type": "code",
   "execution_count": 4,
   "metadata": {
    "collapsed": true
   },
   "outputs": [],
   "source": [
    "L = np.array([1,2,3,4])"
   ]
  },
  {
   "cell_type": "code",
   "execution_count": 5,
   "metadata": {},
   "outputs": [
    {
     "name": "stdout",
     "output_type": "stream",
     "text": [
      "[1 2 3 4]\n"
     ]
    }
   ],
   "source": [
    "print(L)"
   ]
  },
  {
   "cell_type": "code",
   "execution_count": 6,
   "metadata": {
    "collapsed": true
   },
   "outputs": [],
   "source": [
    "M = np.matrix('1 2 3; 4 5 6; 6 7 8')"
   ]
  },
  {
   "cell_type": "code",
   "execution_count": 7,
   "metadata": {},
   "outputs": [
    {
     "name": "stdout",
     "output_type": "stream",
     "text": [
      "[[1 2 3]\n",
      " [4 5 6]\n",
      " [6 7 8]]\n"
     ]
    }
   ],
   "source": [
    "print(M)"
   ]
  },
  {
   "cell_type": "code",
   "execution_count": 8,
   "metadata": {},
   "outputs": [
    {
     "data": {
      "text/plain": [
       "array([1, 2, 3])"
      ]
     },
     "execution_count": 8,
     "metadata": {},
     "output_type": "execute_result"
    }
   ],
   "source": [
    "np.array([1,2,3])"
   ]
  },
  {
   "cell_type": "code",
   "execution_count": 9,
   "metadata": {
    "collapsed": true
   },
   "outputs": [],
   "source": [
    "z = np.zeros(10)"
   ]
  },
  {
   "cell_type": "code",
   "execution_count": 10,
   "metadata": {},
   "outputs": [
    {
     "data": {
      "text/plain": [
       "array([ 0.,  0.,  0.,  0.,  0.,  0.,  0.,  0.,  0.,  0.])"
      ]
     },
     "execution_count": 10,
     "metadata": {},
     "output_type": "execute_result"
    }
   ],
   "source": [
    "z"
   ]
  },
  {
   "cell_type": "code",
   "execution_count": 11,
   "metadata": {
    "collapsed": true
   },
   "outputs": [],
   "source": [
    "z = np.zeros((10,10))"
   ]
  },
  {
   "cell_type": "code",
   "execution_count": 12,
   "metadata": {},
   "outputs": [
    {
     "data": {
      "text/plain": [
       "array([[ 0.,  0.,  0.,  0.,  0.,  0.,  0.,  0.,  0.,  0.],\n",
       "       [ 0.,  0.,  0.,  0.,  0.,  0.,  0.,  0.,  0.,  0.],\n",
       "       [ 0.,  0.,  0.,  0.,  0.,  0.,  0.,  0.,  0.,  0.],\n",
       "       [ 0.,  0.,  0.,  0.,  0.,  0.,  0.,  0.,  0.,  0.],\n",
       "       [ 0.,  0.,  0.,  0.,  0.,  0.,  0.,  0.,  0.,  0.],\n",
       "       [ 0.,  0.,  0.,  0.,  0.,  0.,  0.,  0.,  0.,  0.],\n",
       "       [ 0.,  0.,  0.,  0.,  0.,  0.,  0.,  0.,  0.,  0.],\n",
       "       [ 0.,  0.,  0.,  0.,  0.,  0.,  0.,  0.,  0.,  0.],\n",
       "       [ 0.,  0.,  0.,  0.,  0.,  0.,  0.,  0.,  0.,  0.],\n",
       "       [ 0.,  0.,  0.,  0.,  0.,  0.,  0.,  0.,  0.,  0.]])"
      ]
     },
     "execution_count": 12,
     "metadata": {},
     "output_type": "execute_result"
    }
   ],
   "source": [
    "z"
   ]
  },
  {
   "cell_type": "code",
   "execution_count": 13,
   "metadata": {
    "collapsed": true
   },
   "outputs": [],
   "source": [
    "z = np.ones((10,10))"
   ]
  },
  {
   "cell_type": "code",
   "execution_count": 14,
   "metadata": {},
   "outputs": [
    {
     "data": {
      "text/plain": [
       "array([[ 1.,  1.,  1.,  1.,  1.,  1.,  1.,  1.,  1.,  1.],\n",
       "       [ 1.,  1.,  1.,  1.,  1.,  1.,  1.,  1.,  1.,  1.],\n",
       "       [ 1.,  1.,  1.,  1.,  1.,  1.,  1.,  1.,  1.,  1.],\n",
       "       [ 1.,  1.,  1.,  1.,  1.,  1.,  1.,  1.,  1.,  1.],\n",
       "       [ 1.,  1.,  1.,  1.,  1.,  1.,  1.,  1.,  1.,  1.],\n",
       "       [ 1.,  1.,  1.,  1.,  1.,  1.,  1.,  1.,  1.,  1.],\n",
       "       [ 1.,  1.,  1.,  1.,  1.,  1.,  1.,  1.,  1.,  1.],\n",
       "       [ 1.,  1.,  1.,  1.,  1.,  1.,  1.,  1.,  1.,  1.],\n",
       "       [ 1.,  1.,  1.,  1.,  1.,  1.,  1.,  1.,  1.,  1.],\n",
       "       [ 1.,  1.,  1.,  1.,  1.,  1.,  1.,  1.,  1.,  1.]])"
      ]
     },
     "execution_count": 14,
     "metadata": {},
     "output_type": "execute_result"
    }
   ],
   "source": [
    "z"
   ]
  },
  {
   "cell_type": "code",
   "execution_count": 15,
   "metadata": {
    "collapsed": true
   },
   "outputs": [],
   "source": [
    "z = np.random.random((10,10))"
   ]
  },
  {
   "cell_type": "code",
   "execution_count": 16,
   "metadata": {},
   "outputs": [
    {
     "data": {
      "text/plain": [
       "array([[ 0.04669301,  0.96231059,  0.25576611,  0.80697473,  0.57350357,\n",
       "         0.50078768,  0.03031833,  0.74853359,  0.70529438,  0.39459953],\n",
       "       [ 0.62532003,  0.42594532,  0.82087299,  0.67042406,  0.92105335,\n",
       "         0.29555274,  0.73271338,  0.47868804,  0.28329512,  0.40233569],\n",
       "       [ 0.81885542,  0.95216439,  0.90353731,  0.7881278 ,  0.27809375,\n",
       "         0.99993913,  0.55252225,  0.75492094,  0.897482  ,  0.1356146 ],\n",
       "       [ 0.47034279,  0.34498128,  0.59046926,  0.010352  ,  0.99541516,\n",
       "         0.23611559,  0.41543352,  0.05960218,  0.48071445,  0.8679315 ],\n",
       "       [ 0.49548255,  0.78063623,  0.5924489 ,  0.35537646,  0.64029021,\n",
       "         0.62027177,  0.13235905,  0.86686305,  0.58906968,  0.15128777],\n",
       "       [ 0.37058149,  0.60797998,  0.13894544,  0.49284394,  0.04780374,\n",
       "         0.16367316,  0.77492271,  0.35064142,  0.82676261,  0.4611045 ],\n",
       "       [ 0.88077681,  0.0717738 ,  0.94264916,  0.80062878,  0.36150556,\n",
       "         0.12108339,  0.94431274,  0.4596972 ,  0.79886525,  0.8820404 ],\n",
       "       [ 0.87803432,  0.66692616,  0.63100056,  0.44074355,  0.79491938,\n",
       "         0.52450428,  0.77507611,  0.11181178,  0.82553091,  0.57016128],\n",
       "       [ 0.06685182,  0.25584444,  0.37254592,  0.63594678,  0.80782744,\n",
       "         0.52447926,  0.30113831,  0.19791781,  0.99989366,  0.23270736],\n",
       "       [ 0.80499964,  0.86077274,  0.46582968,  0.99404612,  0.25659699,\n",
       "         0.44605039,  0.65963852,  0.88109073,  0.62952064,  0.5914451 ]])"
      ]
     },
     "execution_count": 16,
     "metadata": {},
     "output_type": "execute_result"
    }
   ],
   "source": [
    "z"
   ]
  },
  {
   "cell_type": "code",
   "execution_count": 17,
   "metadata": {
    "collapsed": true
   },
   "outputs": [],
   "source": [
    "import numpy as np"
   ]
  },
  {
   "cell_type": "code",
   "execution_count": 18,
   "metadata": {},
   "outputs": [
    {
     "data": {
      "text/plain": [
       "array([[ 0.,  0.]])"
      ]
     },
     "execution_count": 18,
     "metadata": {},
     "output_type": "execute_result"
    }
   ],
   "source": [
    "np.empty([1,2])"
   ]
  },
  {
   "cell_type": "code",
   "execution_count": 19,
   "metadata": {},
   "outputs": [
    {
     "data": {
      "text/plain": [
       "array([[  1.14982011e-311,   9.58487353e-322,   0.00000000e+000,\n",
       "          0.00000000e+000,   8.90094052e-307,   5.02034658e+175],\n",
       "       [  5.48522425e-057,   2.90877396e-057,   6.82368327e-038,\n",
       "          7.06966236e-057,   1.47763641e+248,   1.16096346e-028],\n",
       "       [  7.69165785e+218,   1.35617292e+248,   6.92937120e+010,\n",
       "          2.05884736e-071,   6.81506594e+015,   7.84881861e+020],\n",
       "       [  4.26130068e-096,   6.32299154e+233,   6.48224638e+170,\n",
       "          5.22411352e+257,   5.74020278e+180,   8.37174974e-144],\n",
       "       [  1.41529402e+161,   9.16651763e-072,   4.74103733e+097,\n",
       "          3.70306642e-033,   3.42176829e+126,   7.56599807e-307]])"
      ]
     },
     "execution_count": 19,
     "metadata": {},
     "output_type": "execute_result"
    }
   ],
   "source": [
    "np.empty([5,6])"
   ]
  },
  {
   "cell_type": "code",
   "execution_count": 20,
   "metadata": {},
   "outputs": [
    {
     "data": {
      "text/plain": [
       "array([[ 0.,  0.]])"
      ]
     },
     "execution_count": 20,
     "metadata": {},
     "output_type": "execute_result"
    }
   ],
   "source": [
    "np.empty([1,2], dtype='float')"
   ]
  },
  {
   "cell_type": "code",
   "execution_count": 21,
   "metadata": {},
   "outputs": [
    {
     "data": {
      "text/plain": [
       "array([[0, 0]])"
      ]
     },
     "execution_count": 21,
     "metadata": {},
     "output_type": "execute_result"
    }
   ],
   "source": [
    "np.empty([1,2], dtype='int')"
   ]
  },
  {
   "cell_type": "code",
   "execution_count": 22,
   "metadata": {
    "collapsed": true
   },
   "outputs": [],
   "source": [
    "m = np.empty([3,4])"
   ]
  },
  {
   "cell_type": "code",
   "execution_count": 23,
   "metadata": {},
   "outputs": [
    {
     "data": {
      "text/plain": [
       "array([[  1.14981941e-311,   2.86558075e-322,   0.00000000e+000,\n",
       "          0.00000000e+000],\n",
       "       [  0.00000000e+000,   1.61590357e+184,   4.26801921e-090,\n",
       "          6.12670869e-062],\n",
       "       [  2.83029243e-033,   3.27613206e+179,   6.48224659e+170,\n",
       "          5.82471487e+257]])"
      ]
     },
     "execution_count": 23,
     "metadata": {},
     "output_type": "execute_result"
    }
   ],
   "source": [
    "np.empty_like(m)"
   ]
  },
  {
   "cell_type": "code",
   "execution_count": 24,
   "metadata": {},
   "outputs": [
    {
     "data": {
      "text/plain": [
       "array([[ 1.,  0.,  0.,  0.],\n",
       "       [ 0.,  1.,  0.,  0.],\n",
       "       [ 0.,  0.,  1.,  0.],\n",
       "       [ 0.,  0.,  0.,  1.]])"
      ]
     },
     "execution_count": 24,
     "metadata": {},
     "output_type": "execute_result"
    }
   ],
   "source": [
    "np.identity(4)"
   ]
  },
  {
   "cell_type": "code",
   "execution_count": 25,
   "metadata": {
    "collapsed": true
   },
   "outputs": [],
   "source": [
    "x = np.identity(4)\n",
    "y = np.identity(4)"
   ]
  },
  {
   "cell_type": "code",
   "execution_count": 26,
   "metadata": {},
   "outputs": [
    {
     "data": {
      "text/plain": [
       "array([[ 2.,  0.,  0.,  0.],\n",
       "       [ 0.,  2.,  0.,  0.],\n",
       "       [ 0.,  0.,  2.,  0.],\n",
       "       [ 0.,  0.,  0.,  2.]])"
      ]
     },
     "execution_count": 26,
     "metadata": {},
     "output_type": "execute_result"
    }
   ],
   "source": [
    "x + y"
   ]
  },
  {
   "cell_type": "code",
   "execution_count": 27,
   "metadata": {},
   "outputs": [
    {
     "data": {
      "text/plain": [
       "array([[ 1.,  0.,  0.,  0.],\n",
       "       [ 0.,  1.,  0.,  0.],\n",
       "       [ 0.,  0.,  1.,  0.],\n",
       "       [ 0.,  0.,  0.,  1.]])"
      ]
     },
     "execution_count": 27,
     "metadata": {},
     "output_type": "execute_result"
    }
   ],
   "source": [
    "x*y"
   ]
  },
  {
   "cell_type": "code",
   "execution_count": 28,
   "metadata": {},
   "outputs": [
    {
     "data": {
      "text/plain": [
       "array([[ 1.,  1.,  1.,  1.],\n",
       "       [ 1.,  1.,  1.,  1.],\n",
       "       [ 1.,  1.,  1.,  1.],\n",
       "       [ 1.,  1.,  1.,  1.]])"
      ]
     },
     "execution_count": 28,
     "metadata": {},
     "output_type": "execute_result"
    }
   ],
   "source": [
    "np.ones_like(x*y)"
   ]
  },
  {
   "cell_type": "code",
   "execution_count": 29,
   "metadata": {},
   "outputs": [
    {
     "data": {
      "text/plain": [
       "array([[1, 1, 1, 1],\n",
       "       [1, 1, 1, 1],\n",
       "       [1, 1, 1, 1],\n",
       "       [1, 1, 1, 1]])"
      ]
     },
     "execution_count": 29,
     "metadata": {},
     "output_type": "execute_result"
    }
   ],
   "source": [
    "np.ones_like(x*y ,dtype='int')"
   ]
  },
  {
   "cell_type": "code",
   "execution_count": 30,
   "metadata": {
    "collapsed": true
   },
   "outputs": [],
   "source": [
    "a =np.arange(1,10,0.1)"
   ]
  },
  {
   "cell_type": "code",
   "execution_count": 31,
   "metadata": {},
   "outputs": [
    {
     "data": {
      "text/plain": [
       "array([ 1. ,  1.1,  1.2,  1.3,  1.4,  1.5,  1.6,  1.7,  1.8,  1.9,  2. ,\n",
       "        2.1,  2.2,  2.3,  2.4,  2.5,  2.6,  2.7,  2.8,  2.9,  3. ,  3.1,\n",
       "        3.2,  3.3,  3.4,  3.5,  3.6,  3.7,  3.8,  3.9,  4. ,  4.1,  4.2,\n",
       "        4.3,  4.4,  4.5,  4.6,  4.7,  4.8,  4.9,  5. ,  5.1,  5.2,  5.3,\n",
       "        5.4,  5.5,  5.6,  5.7,  5.8,  5.9,  6. ,  6.1,  6.2,  6.3,  6.4,\n",
       "        6.5,  6.6,  6.7,  6.8,  6.9,  7. ,  7.1,  7.2,  7.3,  7.4,  7.5,\n",
       "        7.6,  7.7,  7.8,  7.9,  8. ,  8.1,  8.2,  8.3,  8.4,  8.5,  8.6,\n",
       "        8.7,  8.8,  8.9,  9. ,  9.1,  9.2,  9.3,  9.4,  9.5,  9.6,  9.7,\n",
       "        9.8,  9.9])"
      ]
     },
     "execution_count": 31,
     "metadata": {},
     "output_type": "execute_result"
    }
   ],
   "source": [
    "a"
   ]
  },
  {
   "cell_type": "code",
   "execution_count": 32,
   "metadata": {},
   "outputs": [
    {
     "data": {
      "text/plain": [
       "array([  2. ,   2.2,   2.4,   2.6,   2.8,   3. ,   3.2,   3.4,   3.6,\n",
       "         3.8,   4. ,   4.2,   4.4,   4.6,   4.8,   5. ,   5.2,   5.4,\n",
       "         5.6,   5.8,   6. ,   6.2,   6.4,   6.6,   6.8,   7. ,   7.2,\n",
       "         7.4,   7.6,   7.8,   8. ,   8.2,   8.4,   8.6,   8.8,   9. ,\n",
       "         9.2,   9.4,   9.6,   9.8,  10. ,  10.2,  10.4,  10.6,  10.8,\n",
       "        11. ,  11.2,  11.4,  11.6,  11.8,  12. ,  12.2,  12.4,  12.6,\n",
       "        12.8,  13. ,  13.2,  13.4,  13.6,  13.8,  14. ,  14.2,  14.4,\n",
       "        14.6,  14.8,  15. ,  15.2,  15.4,  15.6,  15.8,  16. ,  16.2,\n",
       "        16.4,  16.6,  16.8,  17. ,  17.2,  17.4,  17.6,  17.8,  18. ,\n",
       "        18.2,  18.4,  18.6,  18.8,  19. ,  19.2,  19.4,  19.6,  19.8])"
      ]
     },
     "execution_count": 32,
     "metadata": {},
     "output_type": "execute_result"
    }
   ],
   "source": [
    "a*2"
   ]
  },
  {
   "cell_type": "code",
   "execution_count": 33,
   "metadata": {
    "collapsed": true
   },
   "outputs": [],
   "source": [
    "import matplotlib.pyplot as plt\n",
    "            \n"
   ]
  },
  {
   "cell_type": "code",
   "execution_count": 34,
   "metadata": {
    "collapsed": true
   },
   "outputs": [],
   "source": [
    "x =np.arange(1,10,1)"
   ]
  },
  {
   "cell_type": "code",
   "execution_count": 35,
   "metadata": {},
   "outputs": [
    {
     "data": {
      "text/plain": [
       "array([1, 2, 3, 4, 5, 6, 7, 8, 9])"
      ]
     },
     "execution_count": 35,
     "metadata": {},
     "output_type": "execute_result"
    }
   ],
   "source": [
    "x"
   ]
  },
  {
   "cell_type": "code",
   "execution_count": 36,
   "metadata": {
    "collapsed": true
   },
   "outputs": [],
   "source": [
    "y = np.sin(x)"
   ]
  },
  {
   "cell_type": "code",
   "execution_count": 37,
   "metadata": {},
   "outputs": [
    {
     "data": {
      "text/plain": [
       "[<matplotlib.lines.Line2D at 0x21ddd796c88>]"
      ]
     },
     "execution_count": 37,
     "metadata": {},
     "output_type": "execute_result"
    }
   ],
   "source": [
    "plt.plot(x,y)"
   ]
  },
  {
   "cell_type": "code",
   "execution_count": 38,
   "metadata": {
    "collapsed": true
   },
   "outputs": [],
   "source": [
    "plt.savefig(\"graph.png\")"
   ]
  },
  {
   "cell_type": "code",
   "execution_count": 39,
   "metadata": {},
   "outputs": [
    {
     "data": {
      "image/png": "[encoded data removed]",
      "text/plain": [
       "<matplotlib.figure.Figure at 0x21ddd666ac8>"
      ]
     },
     "metadata": {},
     "output_type": "display_data"
    }
   ],
   "source": [
    "plt.show()"
   ]
  },
  {
   "cell_type": "code",
   "execution_count": 40,
   "metadata": {},
   "outputs": [
    {
     "data": {
      "text/plain": [
       "array([  0.        ,   0.02004008,   0.04008016,   0.06012024,\n",
       "         0.08016032,   0.1002004 ,   0.12024048,   0.14028056,\n",
       "         0.16032064,   0.18036072,   0.2004008 ,   0.22044088,\n",
       "         0.24048096,   0.26052104,   0.28056112,   0.3006012 ,\n",
       "         0.32064128,   0.34068136,   0.36072144,   0.38076152,\n",
       "         0.4008016 ,   0.42084168,   0.44088176,   0.46092184,\n",
       "         0.48096192,   0.501002  ,   0.52104208,   0.54108216,\n",
       "         0.56112224,   0.58116232,   0.6012024 ,   0.62124248,\n",
       "         0.64128257,   0.66132265,   0.68136273,   0.70140281,\n",
       "         0.72144289,   0.74148297,   0.76152305,   0.78156313,\n",
       "         0.80160321,   0.82164329,   0.84168337,   0.86172345,\n",
       "         0.88176353,   0.90180361,   0.92184369,   0.94188377,\n",
       "         0.96192385,   0.98196393,   1.00200401,   1.02204409,\n",
       "         1.04208417,   1.06212425,   1.08216433,   1.10220441,\n",
       "         1.12224449,   1.14228457,   1.16232465,   1.18236473,\n",
       "         1.20240481,   1.22244489,   1.24248497,   1.26252505,\n",
       "         1.28256513,   1.30260521,   1.32264529,   1.34268537,\n",
       "         1.36272545,   1.38276553,   1.40280561,   1.42284569,\n",
       "         1.44288577,   1.46292585,   1.48296593,   1.50300601,\n",
       "         1.52304609,   1.54308617,   1.56312625,   1.58316633,\n",
       "         1.60320641,   1.62324649,   1.64328657,   1.66332665,\n",
       "         1.68336673,   1.70340681,   1.72344689,   1.74348697,\n",
       "         1.76352705,   1.78356713,   1.80360721,   1.82364729,\n",
       "         1.84368737,   1.86372745,   1.88376754,   1.90380762,\n",
       "         1.9238477 ,   1.94388778,   1.96392786,   1.98396794,\n",
       "         2.00400802,   2.0240481 ,   2.04408818,   2.06412826,\n",
       "         2.08416834,   2.10420842,   2.1242485 ,   2.14428858,\n",
       "         2.16432866,   2.18436874,   2.20440882,   2.2244489 ,\n",
       "         2.24448898,   2.26452906,   2.28456914,   2.30460922,\n",
       "         2.3246493 ,   2.34468938,   2.36472946,   2.38476954,\n",
       "         2.40480962,   2.4248497 ,   2.44488978,   2.46492986,\n",
       "         2.48496994,   2.50501002,   2.5250501 ,   2.54509018,\n",
       "         2.56513026,   2.58517034,   2.60521042,   2.6252505 ,\n",
       "         2.64529058,   2.66533066,   2.68537074,   2.70541082,\n",
       "         2.7254509 ,   2.74549098,   2.76553106,   2.78557114,\n",
       "         2.80561122,   2.8256513 ,   2.84569138,   2.86573146,\n",
       "         2.88577154,   2.90581162,   2.9258517 ,   2.94589178,\n",
       "         2.96593186,   2.98597194,   3.00601202,   3.0260521 ,\n",
       "         3.04609218,   3.06613226,   3.08617234,   3.10621242,\n",
       "         3.12625251,   3.14629259,   3.16633267,   3.18637275,\n",
       "         3.20641283,   3.22645291,   3.24649299,   3.26653307,\n",
       "         3.28657315,   3.30661323,   3.32665331,   3.34669339,\n",
       "         3.36673347,   3.38677355,   3.40681363,   3.42685371,\n",
       "         3.44689379,   3.46693387,   3.48697395,   3.50701403,\n",
       "         3.52705411,   3.54709419,   3.56713427,   3.58717435,\n",
       "         3.60721443,   3.62725451,   3.64729459,   3.66733467,\n",
       "         3.68737475,   3.70741483,   3.72745491,   3.74749499,\n",
       "         3.76753507,   3.78757515,   3.80761523,   3.82765531,\n",
       "         3.84769539,   3.86773547,   3.88777555,   3.90781563,\n",
       "         3.92785571,   3.94789579,   3.96793587,   3.98797595,\n",
       "         4.00801603,   4.02805611,   4.04809619,   4.06813627,\n",
       "         4.08817635,   4.10821643,   4.12825651,   4.14829659,\n",
       "         4.16833667,   4.18837675,   4.20841683,   4.22845691,\n",
       "         4.24849699,   4.26853707,   4.28857715,   4.30861723,\n",
       "         4.32865731,   4.34869739,   4.36873747,   4.38877756,\n",
       "         4.40881764,   4.42885772,   4.4488978 ,   4.46893788,\n",
       "         4.48897796,   4.50901804,   4.52905812,   4.5490982 ,\n",
       "         4.56913828,   4.58917836,   4.60921844,   4.62925852,\n",
       "         4.6492986 ,   4.66933868,   4.68937876,   4.70941884,\n",
       "         4.72945892,   4.749499  ,   4.76953908,   4.78957916,\n",
       "         4.80961924,   4.82965932,   4.8496994 ,   4.86973948,\n",
       "         4.88977956,   4.90981964,   4.92985972,   4.9498998 ,\n",
       "         4.96993988,   4.98997996,   5.01002004,   5.03006012,\n",
       "         5.0501002 ,   5.07014028,   5.09018036,   5.11022044,\n",
       "         5.13026052,   5.1503006 ,   5.17034068,   5.19038076,\n",
       "         5.21042084,   5.23046092,   5.250501  ,   5.27054108,\n",
       "         5.29058116,   5.31062124,   5.33066132,   5.3507014 ,\n",
       "         5.37074148,   5.39078156,   5.41082164,   5.43086172,\n",
       "         5.4509018 ,   5.47094188,   5.49098196,   5.51102204,\n",
       "         5.53106212,   5.5511022 ,   5.57114228,   5.59118236,\n",
       "         5.61122244,   5.63126253,   5.65130261,   5.67134269,\n",
       "         5.69138277,   5.71142285,   5.73146293,   5.75150301,\n",
       "         5.77154309,   5.79158317,   5.81162325,   5.83166333,\n",
       "         5.85170341,   5.87174349,   5.89178357,   5.91182365,\n",
       "         5.93186373,   5.95190381,   5.97194389,   5.99198397,\n",
       "         6.01202405,   6.03206413,   6.05210421,   6.07214429,\n",
       "         6.09218437,   6.11222445,   6.13226453,   6.15230461,\n",
       "         6.17234469,   6.19238477,   6.21242485,   6.23246493,\n",
       "         6.25250501,   6.27254509,   6.29258517,   6.31262525,\n",
       "         6.33266533,   6.35270541,   6.37274549,   6.39278557,\n",
       "         6.41282565,   6.43286573,   6.45290581,   6.47294589,\n",
       "         6.49298597,   6.51302605,   6.53306613,   6.55310621,\n",
       "         6.57314629,   6.59318637,   6.61322645,   6.63326653,\n",
       "         6.65330661,   6.67334669,   6.69338677,   6.71342685,\n",
       "         6.73346693,   6.75350701,   6.77354709,   6.79358717,\n",
       "         6.81362725,   6.83366733,   6.85370741,   6.87374749,\n",
       "         6.89378758,   6.91382766,   6.93386774,   6.95390782,\n",
       "         6.9739479 ,   6.99398798,   7.01402806,   7.03406814,\n",
       "         7.05410822,   7.0741483 ,   7.09418838,   7.11422846,\n",
       "         7.13426854,   7.15430862,   7.1743487 ,   7.19438878,\n",
       "         7.21442886,   7.23446894,   7.25450902,   7.2745491 ,\n",
       "         7.29458918,   7.31462926,   7.33466934,   7.35470942,\n",
       "         7.3747495 ,   7.39478958,   7.41482966,   7.43486974,\n",
       "         7.45490982,   7.4749499 ,   7.49498998,   7.51503006,\n",
       "         7.53507014,   7.55511022,   7.5751503 ,   7.59519038,\n",
       "         7.61523046,   7.63527054,   7.65531062,   7.6753507 ,\n",
       "         7.69539078,   7.71543086,   7.73547094,   7.75551102,\n",
       "         7.7755511 ,   7.79559118,   7.81563126,   7.83567134,\n",
       "         7.85571142,   7.8757515 ,   7.89579158,   7.91583166,\n",
       "         7.93587174,   7.95591182,   7.9759519 ,   7.99599198,\n",
       "         8.01603206,   8.03607214,   8.05611222,   8.0761523 ,\n",
       "         8.09619238,   8.11623246,   8.13627255,   8.15631263,\n",
       "         8.17635271,   8.19639279,   8.21643287,   8.23647295,\n",
       "         8.25651303,   8.27655311,   8.29659319,   8.31663327,\n",
       "         8.33667335,   8.35671343,   8.37675351,   8.39679359,\n",
       "         8.41683367,   8.43687375,   8.45691383,   8.47695391,\n",
       "         8.49699399,   8.51703407,   8.53707415,   8.55711423,\n",
       "         8.57715431,   8.59719439,   8.61723447,   8.63727455,\n",
       "         8.65731463,   8.67735471,   8.69739479,   8.71743487,\n",
       "         8.73747495,   8.75751503,   8.77755511,   8.79759519,\n",
       "         8.81763527,   8.83767535,   8.85771543,   8.87775551,\n",
       "         8.89779559,   8.91783567,   8.93787575,   8.95791583,\n",
       "         8.97795591,   8.99799599,   9.01803607,   9.03807615,\n",
       "         9.05811623,   9.07815631,   9.09819639,   9.11823647,\n",
       "         9.13827655,   9.15831663,   9.17835671,   9.19839679,\n",
       "         9.21843687,   9.23847695,   9.25851703,   9.27855711,\n",
       "         9.29859719,   9.31863727,   9.33867735,   9.35871743,\n",
       "         9.37875752,   9.3987976 ,   9.41883768,   9.43887776,\n",
       "         9.45891784,   9.47895792,   9.498998  ,   9.51903808,\n",
       "         9.53907816,   9.55911824,   9.57915832,   9.5991984 ,\n",
       "         9.61923848,   9.63927856,   9.65931864,   9.67935872,\n",
       "         9.6993988 ,   9.71943888,   9.73947896,   9.75951904,\n",
       "         9.77955912,   9.7995992 ,   9.81963928,   9.83967936,\n",
       "         9.85971944,   9.87975952,   9.8997996 ,   9.91983968,\n",
       "         9.93987976,   9.95991984,   9.97995992,  10.        ])"
      ]
     },
     "execution_count": 40,
     "metadata": {},
     "output_type": "execute_result"
    }
   ],
   "source": [
    "np.linspace(0,10,500) #np.linspace(startpoint,endpoint ,partetion)"
   ]
  },
  {
   "cell_type": "code",
   "execution_count": 41,
   "metadata": {},
   "outputs": [
    {
     "data": {
      "text/plain": [
       "array([  1.00000000e+02,   2.06351078e+02,   4.25807673e+02,\n",
       "         8.78658723e+02,   1.81312174e+03,   3.74139626e+03,\n",
       "         7.72041151e+03,   1.59311524e+04,   3.28741046e+04,\n",
       "         6.78360691e+04,   1.39980460e+05,   2.88851187e+05,\n",
       "         5.96047539e+05,   1.22995052e+06,   2.53801615e+06,\n",
       "         5.23722369e+06,   1.08070675e+07,   2.23005003e+07,\n",
       "         4.60173228e+07,   9.49572415e+07,   1.95945291e+08,\n",
       "         4.04335220e+08,   8.34350085e+08,   1.72169039e+09,\n",
       "         3.55272668e+09,   7.33108980e+09,   1.51277828e+10,\n",
       "         3.12163429e+10,   6.44152600e+10,   1.32921583e+11,\n",
       "         2.74285120e+11,   5.65990301e+11,   1.16792709e+12,\n",
       "         2.41003013e+12,   4.97312315e+12,   1.02620932e+13,\n",
       "         2.11759399e+13,   4.36967803e+13,   9.01687771e+13,\n",
       "         1.86064243e+14,   3.83945572e+14,   7.92275825e+14,\n",
       "         1.63486970e+15,   3.37357126e+15,   6.96140065e+15,\n",
       "         1.43649253e+16,   2.96421781e+16,   6.11669540e+16,\n",
       "         1.26218669e+17,   2.60453583e+17,   5.37448777e+17,\n",
       "         1.10903134e+18,   2.28849813e+18,   4.72234056e+18,\n",
       "         9.74460063e+18,   2.01080884e+19,   4.14932572e+19,\n",
       "         8.56217834e+19,   1.76681473e+20,   3.64584124e+20,\n",
       "         7.52323269e+20,   1.55242717e+21,   3.20345020e+21,\n",
       "         6.61035402e+21,   1.36405368e+22,   2.81473946e+22,\n",
       "         5.80824522e+22,   1.19853766e+23,   2.47319538e+23,\n",
       "         5.10346533e+23,   1.05310557e+24,   2.17309470e+24,\n",
       "         4.48420433e+24,   9.25320396e+24,   1.90940861e+25,\n",
       "         3.94008524e+25,   8.13040837e+25,   1.67771853e+26,\n",
       "         3.46199027e+26,   7.14385423e+26,   1.47414202e+27,\n",
       "         3.04190795e+27,   6.27700983e+27,   1.29526774e+28,\n",
       "         2.67279895e+28,   5.51534944e+28,   1.13809830e+29,\n",
       "         2.34847811e+29,   4.84610990e+29,   1.00000000e+30])"
      ]
     },
     "execution_count": 41,
     "metadata": {},
     "output_type": "execute_result"
    }
   ],
   "source": [
    "np.logspace(2,30,90)# ye har value pr log leta h"
   ]
  },
  {
   "cell_type": "code",
   "execution_count": 42,
   "metadata": {},
   "outputs": [
    {
     "data": {
      "text/plain": [
       "array([  9.00000000e+00,   1.27159284e+01,   1.79660927e+01,\n",
       "         2.53839497e+01,   3.58644985e+01,   5.06722660e+01,\n",
       "         7.15938783e+01,   1.01153625e+02,   1.42918028e+02,\n",
       "         2.01926157e+02,   2.85297616e+02,   4.03091561e+02,\n",
       "         5.69520379e+02,   8.04664482e+02,   1.13689510e+03,\n",
       "         1.60629741e+03,   2.26950698e+03,   3.20654313e+03,\n",
       "         4.53046363e+03,   6.40100567e+03,   9.04385884e+03,\n",
       "         1.27778957e+04,   1.80536451e+04,   2.55076509e+04,\n",
       "         3.60392735e+04,   5.09192023e+04,   7.19427699e+04,\n",
       "         1.01646568e+05,   1.43614497e+05,   2.02910184e+05,\n",
       "         2.86687929e+05,   4.05055908e+05,   5.72295768e+05,\n",
       "         8.08585777e+05,   1.14243542e+06,   1.61412522e+06,\n",
       "         2.28056675e+06,   3.22216927e+06,   4.55254151e+06,\n",
       "         6.43219908e+06,   9.08793141e+06,   1.28401650e+07,\n",
       "         1.81416242e+07,   2.56319549e+07,   3.62149003e+07,\n",
       "         5.11673420e+07,   7.22933617e+07,   1.02141912e+08,\n",
       "         1.44314360e+08,   2.03899007e+08,   2.88085018e+08,\n",
       "         4.07029828e+08,   5.75084682e+08,   8.12526181e+08,\n",
       "         1.14800275e+09,   1.62199119e+09,   2.29168042e+09,\n",
       "         3.23787156e+09,   4.57472697e+09,   6.46354450e+09,\n",
       "         9.13221876e+09,   1.29027377e+10,   1.82300321e+10,\n",
       "         2.57568647e+10,   3.63913829e+10,   5.14166909e+10,\n",
       "         7.26456621e+10,   1.02639671e+11,   1.45017633e+11,\n",
       "         2.04892648e+11,   2.89488915e+11,   4.09013368e+11,\n",
       "         5.77887188e+11,   8.16485787e+11,   1.15359720e+12,\n",
       "         1.62989548e+12,   2.30284824e+12,   3.25365037e+12,\n",
       "         4.59702055e+12,   6.49504267e+12,   9.17672193e+12,\n",
       "         1.29656154e+13,   1.83188708e+13,   2.58823831e+13,\n",
       "         3.65687256e+13,   5.16672550e+13,   7.29996792e+13,\n",
       "         1.03139855e+14,   1.45724334e+14,   2.05891132e+14])"
      ]
     },
     "execution_count": 42,
     "metadata": {},
     "output_type": "execute_result"
    }
   ],
   "source": [
    "np.logspace(2,30,90,base=3)"
   ]
  },
  {
   "cell_type": "code",
   "execution_count": 43,
   "metadata": {},
   "outputs": [
    {
     "data": {
      "text/plain": [
       "array([  2.        ,   2.06179036,   2.12548974,   2.19115712,\n",
       "         2.25885332,   2.32864099,   2.40058477,   2.47475127,\n",
       "         2.55120915,   2.63002921,   2.71128444,   2.79505005,\n",
       "         2.88140362,   2.9704251 ,   3.06219692,   3.15680404,\n",
       "         3.25433406,   3.3548773 ,   3.45852683,   3.56537863,\n",
       "         3.67553165,   3.78908785,   3.9061524 ,   4.02683368,\n",
       "         4.15124342,   4.27949683,   4.41171265,   4.5480133 ,\n",
       "         4.68852498,   4.8333778 ,   4.98270587,   5.13664746,\n",
       "         5.2953451 ,   5.45894573,   5.62760084,   5.80146657,\n",
       "         5.98070392,   6.16547883,   6.35596241,   6.552331  ,\n",
       "         6.75476644,   6.96345615,   7.17859338,   7.4003773 ,\n",
       "         7.62901328,   7.86471301,   8.10769472,   8.3581834 ,\n",
       "         8.61641097,   8.88261653,   9.15704655,   9.43995514,\n",
       "         9.73160424,  10.0322639 ,  10.34221248,  10.66173699,\n",
       "        10.99113326,  11.33070628,  11.68077048,  12.04164997,\n",
       "        12.4136789 ,  12.79720173,  13.19257356,  13.60016048,\n",
       "        14.02033987,  14.45350077,  14.90004426,  15.36038379,\n",
       "        15.8349456 ,  16.32416907,  16.82850719,  17.34842693,\n",
       "        17.88440968,  18.43695171,  19.00656463,  19.59377584,\n",
       "        20.19912905,  20.82318475,  21.46652077,  22.12973276,\n",
       "        22.81343481,  23.51825996,  24.2448608 ,  24.99391011,\n",
       "        25.76610143,  26.56214974,  27.3827921 ,  28.22878836,\n",
       "        29.10092182,  30.        ])"
      ]
     },
     "execution_count": 43,
     "metadata": {},
     "output_type": "execute_result"
    }
   ],
   "source": [
    "np.geomspace(2,30,90)"
   ]
  },
  {
   "cell_type": "code",
   "execution_count": 95,
   "metadata": {
    "collapsed": true
   },
   "outputs": [],
   "source": [
    "x = [\"A\",\"B\",\"C\"]\n",
    "y = [2,3,4]"
   ]
  },
  {
   "cell_type": "code",
   "execution_count": 96,
   "metadata": {},
   "outputs": [
    {
     "data": {
      "text/plain": [
       "[<matplotlib.lines.Line2D at 0x21de8bfed30>]"
      ]
     },
     "execution_count": 96,
     "metadata": {},
     "output_type": "execute_result"
    }
   ],
   "source": [
    "plt.plot(x,y)"
   ]
  },
  {
   "cell_type": "code",
   "execution_count": 97,
   "metadata": {},
   "outputs": [
    {
     "data": {
      "image/png": "[encoded data removed]",
      "text/plain": [
       "<matplotlib.figure.Figure at 0x21dde303048>"
      ]
     },
     "metadata": {},
     "output_type": "display_data"
    }
   ],
   "source": [
    "plt.show()"
   ]
  },
  {
   "cell_type": "code",
   "execution_count": 107,
   "metadata": {
    "collapsed": true
   },
   "outputs": [],
   "source": [
    "import json"
   ]
  },
  {
   "cell_type": "code",
   "execution_count": 108,
   "metadata": {
    "collapsed": true
   },
   "outputs": [],
   "source": [
    "file1 = open(\"C:\\\\Users\\\\Aman\\\\Desktop\\\\Eckovation_ml-\\\\ZomatoDataForAnalyse\\\\file1.json\",\"r\")\n",
    "d1 = json.loads(file1.read())\n",
    "file2 = open(\"C:\\\\Users\\\\Aman\\\\Desktop\\\\Eckovation_ml-\\\\ZomatoDataForAnalyse\\\\file2.json\")\n",
    "d2 = json.loads(file2.read())\n",
    "file3 = open(\"C:\\\\Users\\\\Aman\\\\Desktop\\\\Eckovation_ml-\\\\ZomatoDataForAnalyse\\\\file3.json\",\"r\")\n",
    "d3 = json.loads(file3.read())\n",
    "file4 = open(\"C:\\\\Users\\\\Aman\\\\Desktop\\\\Eckovation_ml-\\\\ZomatoDataForAnalyse\\\\file4.json\",\"r\")\n",
    "d4 = json.loads(file4.read())\n",
    "file5 = open(\"C:\\\\Users\\\\Aman\\\\Desktop\\\\Eckovation_ml-\\\\ZomatoDataForAnalyse\\\\file5.json\",\"r\")\n",
    "d5 = json.loads(file5.read())\n",
    "\n",
    "jsonlist =[d1,d2,d3,d4,d5]\n"
   ]
  },
  {
   "cell_type": "code",
   "execution_count": 109,
   "metadata": {
    "collapsed": true
   },
   "outputs": [],
   "source": [
    "diccl ={}\n",
    "idlis=[]\n",
    "\n",
    "for d in jsonlist:\n",
    "    for i in range(len(d)):\n",
    "        if(\"restaurants\" in d[i]):\n",
    "            for j in range(len(d[i][\"restaurants\"])):\n",
    "                if(d[i][\"restaurants\"][j][\"restaurant\"][\"id\"] not in idlis):\n",
    "                    idlis.append(d[i][\"restaurants\"][j][\"restaurant\"][\"id\"])\n",
    "                    if(d[i][\"restaurants\"][j][\"restaurant\"][\"location\"][\"city\"] not in diccl):\n",
    "                        diccl[d[i][\"restaurants\"][j][\"restaurant\"][\"location\"][\"city\"]] = 0\n",
    "                    if(float(d[i][\"restaurants\"][j][\"restaurant\"][\"user_rating\"][\"aggregate_rating\"]) >4.0):\n",
    "                        diccl[d[i][\"restaurants\"][j][\"restaurant\"][\"location\"][\"city\"]]+=1"
   ]
  },
  {
   "cell_type": "code",
   "execution_count": 143,
   "metadata": {},
   "outputs": [
    {
     "data": {
      "text/plain": [
       "[('İstanbul', 14),\n",
       " ('Yorkton', 0),\n",
       " ('Winchester Bay', 0),\n",
       " ('Wellington City', 18),\n",
       " ('Weirton', 0),\n",
       " ('Waterloo', 0),\n",
       " ('Vizag', 9),\n",
       " ('Vineland Station', 1),\n",
       " ('Victor Harbor', 0),\n",
       " ('Vernonia', 1),\n",
       " ('Varanasi', 1),\n",
       " ('Valdosta', 1),\n",
       " ('Vadodara', 9),\n",
       " ('Trentham East', 1),\n",
       " ('Tanunda', 1),\n",
       " ('Tangerang', 1),\n",
       " ('Tampa Bay', 17),\n",
       " ('Taguig City', 4),\n",
       " ('Tagaytay City', 1),\n",
       " ('São Paulo', 12),\n",
       " ('Surat', 8),\n",
       " ('Sioux City', 0),\n",
       " ('Singapore', 2),\n",
       " ('Sharjah', 13),\n",
       " ('Secunderabad', 2),\n",
       " ('Savannah', 14),\n",
       " ('Santa Rosa', 0),\n",
       " ('Sandton', 9),\n",
       " ('San Juan City', 2),\n",
       " ('Rio de Janeiro', 17),\n",
       " ('Rest of Hawaii', 18),\n",
       " ('Randburg', 1),\n",
       " ('Ranchi', 0),\n",
       " ('Quezon City', 1),\n",
       " ('Pune', 17),\n",
       " ('Puducherry', 3),\n",
       " ('Princeton', 0),\n",
       " ('Pretoria', 13),\n",
       " ('Potrero', 0),\n",
       " ('Pocatello', 1),\n",
       " ('Phillip Island', 0),\n",
       " ('Pensacola', 14),\n",
       " ('Penola', 0),\n",
       " ('Paynesville', 0),\n",
       " ('Patna', 0),\n",
       " ('Pasig City', 3),\n",
       " ('Pasay City', 2),\n",
       " ('Panchkula', 1),\n",
       " ('Palm Cove', 1),\n",
       " ('Orlando', 19),\n",
       " ('Ojo Caliente', 0),\n",
       " ('Noida', 20),\n",
       " ('New Delhi', 239),\n",
       " ('Nashik', 0),\n",
       " ('Nagpur', 7),\n",
       " ('Mysore', 1),\n",
       " ('Mumbai', 9),\n",
       " ('Montville', 0),\n",
       " ('Monroe', 0),\n",
       " ('Mohali', 1),\n",
       " ('Miller', 0),\n",
       " ('Middleton Beach', 0),\n",
       " ('Mc Millan', 0),\n",
       " ('Mayfield', 0),\n",
       " ('Mangalore', 2),\n",
       " ('Mandaluyong City', 4),\n",
       " ('Manchester', 11),\n",
       " ('Makati City', 2),\n",
       " ('Macon', 11),\n",
       " ('Macedon', 0),\n",
       " ('Ludhiana', 9),\n",
       " ('Lucknow', 15),\n",
       " ('Lorn', 0),\n",
       " ('London', 19),\n",
       " ('Lincoln', 1),\n",
       " ('Lakeview', 0),\n",
       " ('Lakes Entrance', 0),\n",
       " ('Kolkata', 14),\n",
       " ('Kochi', 11),\n",
       " ('Kanpur', 4),\n",
       " ('Johannesburg', 5),\n",
       " ('Jakarta', 13),\n",
       " ('Jaipur', 12),\n",
       " ('Inverloch', 0),\n",
       " ('Inner City', 2),\n",
       " ('Indore', 8),\n",
       " ('Hyderabad', 15),\n",
       " ('Huskisson', 1),\n",
       " ('Hepburn Springs', 0),\n",
       " ('Guwahati', 16),\n",
       " ('Gurgaon', 62),\n",
       " ('Goa', 15),\n",
       " ('Ghaziabad', 0),\n",
       " ('Gainesville', 11),\n",
       " ('Forrest', 0),\n",
       " ('Flaxton', 0),\n",
       " ('Fernley', 0),\n",
       " ('Faridabad', 3),\n",
       " ('Edinburgh', 10),\n",
       " ('East Ballina', 1),\n",
       " ('Dummy', 0),\n",
       " ('Dubuque', 0),\n",
       " ('Dubai', 17),\n",
       " ('Doha', 8),\n",
       " ('Dicky Beach', 0),\n",
       " ('Des Moines', 15),\n",
       " ('Dehradun', 8),\n",
       " ('Davenport', 11),\n",
       " ('Dalton', 13),\n",
       " ('Consort', 0),\n",
       " ('Columbus', 9),\n",
       " ('Colombo', 9),\n",
       " ('Coimbatore', 11),\n",
       " ('Cochrane', 0),\n",
       " ('Clatskanie', 1),\n",
       " ('Chennai', 16),\n",
       " ('Chatham-Kent', 0),\n",
       " ('Chandigarh', 10),\n",
       " ('Cedar Rapids/Iowa City', 15),\n",
       " ('Cape Town', 11),\n",
       " ('Brasília', 4),\n",
       " ('Boise', 16),\n",
       " ('Bogor', 0),\n",
       " ('Birmingham', 5),\n",
       " ('Bhubaneshwar', 8),\n",
       " ('Bhopal', 8),\n",
       " ('Beechworth', 1),\n",
       " ('Bangalore', 17),\n",
       " ('Bandung', 1),\n",
       " ('Balingup', 0),\n",
       " ('Aurangabad', 0),\n",
       " ('Augusta', 10),\n",
       " ('Auckland', 15),\n",
       " ('Athens', 17),\n",
       " ('Armidale', 0),\n",
       " ('Ankara', 18),\n",
       " ('Amritsar', 3),\n",
       " ('Allahabad', 0),\n",
       " ('Albany', 0),\n",
       " ('Ahmedabad', 14),\n",
       " ('Agra', 7),\n",
       " ('Abu Dhabi', 14)]"
      ]
     },
     "execution_count": 143,
     "metadata": {},
     "output_type": "execute_result"
    }
   ],
   "source": [
    "l = sorted(diccl.items(),reverse =True)\n",
    "l"
   ]
  },
  {
   "cell_type": "code",
   "execution_count": 144,
   "metadata": {},
   "outputs": [
    {
     "data": {
      "text/plain": [
       "[239,\n",
       " 62,\n",
       " 20,\n",
       " 19,\n",
       " 19,\n",
       " 18,\n",
       " 18,\n",
       " 18,\n",
       " 17,\n",
       " 17,\n",
       " 17,\n",
       " 17,\n",
       " 17,\n",
       " 17,\n",
       " 16,\n",
       " 16,\n",
       " 16,\n",
       " 15,\n",
       " 15,\n",
       " 15,\n",
       " 15,\n",
       " 15,\n",
       " 15,\n",
       " 14,\n",
       " 14,\n",
       " 14,\n",
       " 14,\n",
       " 14,\n",
       " 14,\n",
       " 13,\n",
       " 13,\n",
       " 13,\n",
       " 13,\n",
       " 12,\n",
       " 12,\n",
       " 11,\n",
       " 11,\n",
       " 11,\n",
       " 11,\n",
       " 11,\n",
       " 11,\n",
       " 11,\n",
       " 10,\n",
       " 10,\n",
       " 10,\n",
       " 9,\n",
       " 9,\n",
       " 9,\n",
       " 9,\n",
       " 9,\n",
       " 9,\n",
       " 9,\n",
       " 8,\n",
       " 8,\n",
       " 8,\n",
       " 8,\n",
       " 8,\n",
       " 8,\n",
       " 7,\n",
       " 7,\n",
       " 5,\n",
       " 5,\n",
       " 4,\n",
       " 4,\n",
       " 4,\n",
       " 4,\n",
       " 3,\n",
       " 3,\n",
       " 3,\n",
       " 3,\n",
       " 2,\n",
       " 2,\n",
       " 2,\n",
       " 2,\n",
       " 2,\n",
       " 2,\n",
       " 2,\n",
       " 1,\n",
       " 1,\n",
       " 1,\n",
       " 1,\n",
       " 1,\n",
       " 1,\n",
       " 1,\n",
       " 1,\n",
       " 1,\n",
       " 1,\n",
       " 1,\n",
       " 1,\n",
       " 1,\n",
       " 1,\n",
       " 1,\n",
       " 1,\n",
       " 1,\n",
       " 1,\n",
       " 1,\n",
       " 1,\n",
       " 1,\n",
       " 0,\n",
       " 0,\n",
       " 0,\n",
       " 0,\n",
       " 0,\n",
       " 0,\n",
       " 0,\n",
       " 0,\n",
       " 0,\n",
       " 0,\n",
       " 0,\n",
       " 0,\n",
       " 0,\n",
       " 0,\n",
       " 0,\n",
       " 0,\n",
       " 0,\n",
       " 0,\n",
       " 0,\n",
       " 0,\n",
       " 0,\n",
       " 0,\n",
       " 0,\n",
       " 0,\n",
       " 0,\n",
       " 0,\n",
       " 0,\n",
       " 0,\n",
       " 0,\n",
       " 0,\n",
       " 0,\n",
       " 0,\n",
       " 0,\n",
       " 0,\n",
       " 0,\n",
       " 0,\n",
       " 0,\n",
       " 0,\n",
       " 0,\n",
       " 0,\n",
       " 0,\n",
       " 0,\n",
       " 0,\n",
       " 0]"
      ]
     },
     "execution_count": 144,
     "metadata": {},
     "output_type": "execute_result"
    }
   ],
   "source": [
    "l = sorted(diccl.values(),reverse=True)\n",
    "l\n"
   ]
  },
  {
   "cell_type": "code",
   "execution_count": 145,
   "metadata": {},
   "outputs": [
    {
     "ename": "TypeError",
     "evalue": "'int' object is not subscriptable",
     "output_type": "error",
     "traceback": [
      "\u001b[1;31m---------------------------------------------------------------------------\u001b[0m",
      "\u001b[1;31mTypeError\u001b[0m                                 Traceback (most recent call last)",
      "\u001b[1;32m<ipython-input-145-d451c28ea0b8>\u001b[0m in \u001b[0;36m<module>\u001b[1;34m()\u001b[0m\n\u001b[0;32m      2\u001b[0m \u001b[0my\u001b[0m \u001b[1;33m=\u001b[0m \u001b[1;33m[\u001b[0m\u001b[1;33m]\u001b[0m\u001b[1;33m\u001b[0m\u001b[0m\n\u001b[0;32m      3\u001b[0m \u001b[1;32mfor\u001b[0m \u001b[0mi\u001b[0m \u001b[1;32min\u001b[0m \u001b[0mrange\u001b[0m\u001b[1;33m(\u001b[0m\u001b[1;36m7\u001b[0m\u001b[1;33m)\u001b[0m\u001b[1;33m:\u001b[0m\u001b[1;33m\u001b[0m\u001b[0m\n\u001b[1;32m----> 4\u001b[1;33m     \u001b[0mx\u001b[0m\u001b[1;33m.\u001b[0m\u001b[0mappend\u001b[0m\u001b[1;33m(\u001b[0m\u001b[0ml\u001b[0m\u001b[1;33m[\u001b[0m\u001b[0mi\u001b[0m\u001b[1;33m]\u001b[0m\u001b[1;33m[\u001b[0m\u001b[1;36m0\u001b[0m\u001b[1;33m]\u001b[0m\u001b[1;33m)\u001b[0m\u001b[1;33m\u001b[0m\u001b[0m\n\u001b[0m\u001b[0;32m      5\u001b[0m     \u001b[0my\u001b[0m\u001b[1;33m.\u001b[0m\u001b[0mappend\u001b[0m\u001b[1;33m(\u001b[0m\u001b[0ml\u001b[0m\u001b[1;33m[\u001b[0m\u001b[0mi\u001b[0m\u001b[1;33m]\u001b[0m\u001b[1;33m[\u001b[0m\u001b[1;36m1\u001b[0m\u001b[1;33m]\u001b[0m\u001b[1;33m)\u001b[0m\u001b[1;33m\u001b[0m\u001b[0m\n",
      "\u001b[1;31mTypeError\u001b[0m: 'int' object is not subscriptable"
     ]
    }
   ],
   "source": [
    "x = []\n",
    "y = []\n",
    "for i in range(7):\n",
    "    x.append(l[i][0])\n",
    "    y.append(l[i][1])"
   ]
  },
  {
   "cell_type": "code",
   "execution_count": 146,
   "metadata": {
    "collapsed": true
   },
   "outputs": [],
   "source": [
    "import matplotlib.pyplot as plt"
   ]
  },
  {
   "cell_type": "code",
   "execution_count": 147,
   "metadata": {},
   "outputs": [
    {
     "data": {
      "text/plain": [
       "142"
      ]
     },
     "execution_count": 147,
     "metadata": {},
     "output_type": "execute_result"
    }
   ],
   "source": [
    "len(l)"
   ]
  },
  {
   "cell_type": "code",
   "execution_count": 148,
   "metadata": {},
   "outputs": [
    {
     "data": {
      "text/plain": [
       "[<matplotlib.lines.Line2D at 0x21de6931358>]"
      ]
     },
     "execution_count": 148,
     "metadata": {},
     "output_type": "execute_result"
    }
   ],
   "source": [
    "plt.plot(x,y)"
   ]
  },
  {
   "cell_type": "code",
   "execution_count": 149,
   "metadata": {},
   "outputs": [
    {
     "data": {
      "text/plain": [
       "{'Abu Dhabi': 14,\n",
       " 'Agra': 7,\n",
       " 'Ahmedabad': 14,\n",
       " 'Albany': 0,\n",
       " 'Allahabad': 0,\n",
       " 'Amritsar': 3,\n",
       " 'Ankara': 18,\n",
       " 'Armidale': 0,\n",
       " 'Athens': 17,\n",
       " 'Auckland': 15,\n",
       " 'Augusta': 10,\n",
       " 'Aurangabad': 0,\n",
       " 'Balingup': 0,\n",
       " 'Bandung': 1,\n",
       " 'Bangalore': 17,\n",
       " 'Beechworth': 1,\n",
       " 'Bhopal': 8,\n",
       " 'Bhubaneshwar': 8,\n",
       " 'Birmingham': 5,\n",
       " 'Bogor': 0,\n",
       " 'Boise': 16,\n",
       " 'Brasília': 4,\n",
       " 'Cape Town': 11,\n",
       " 'Cedar Rapids/Iowa City': 15,\n",
       " 'Chandigarh': 10,\n",
       " 'Chatham-Kent': 0,\n",
       " 'Chennai': 16,\n",
       " 'Clatskanie': 1,\n",
       " 'Cochrane': 0,\n",
       " 'Coimbatore': 11,\n",
       " 'Colombo': 9,\n",
       " 'Columbus': 9,\n",
       " 'Consort': 0,\n",
       " 'Dalton': 13,\n",
       " 'Davenport': 11,\n",
       " 'Dehradun': 8,\n",
       " 'Des Moines': 15,\n",
       " 'Dicky Beach': 0,\n",
       " 'Doha': 8,\n",
       " 'Dubai': 17,\n",
       " 'Dubuque': 0,\n",
       " 'Dummy': 0,\n",
       " 'East Ballina': 1,\n",
       " 'Edinburgh': 10,\n",
       " 'Faridabad': 3,\n",
       " 'Fernley': 0,\n",
       " 'Flaxton': 0,\n",
       " 'Forrest': 0,\n",
       " 'Gainesville': 11,\n",
       " 'Ghaziabad': 0,\n",
       " 'Goa': 15,\n",
       " 'Gurgaon': 62,\n",
       " 'Guwahati': 16,\n",
       " 'Hepburn Springs': 0,\n",
       " 'Huskisson': 1,\n",
       " 'Hyderabad': 15,\n",
       " 'Indore': 8,\n",
       " 'Inner City': 2,\n",
       " 'Inverloch': 0,\n",
       " 'Jaipur': 12,\n",
       " 'Jakarta': 13,\n",
       " 'Johannesburg': 5,\n",
       " 'Kanpur': 4,\n",
       " 'Kochi': 11,\n",
       " 'Kolkata': 14,\n",
       " 'Lakes Entrance': 0,\n",
       " 'Lakeview': 0,\n",
       " 'Lincoln': 1,\n",
       " 'London': 19,\n",
       " 'Lorn': 0,\n",
       " 'Lucknow': 15,\n",
       " 'Ludhiana': 9,\n",
       " 'Macedon': 0,\n",
       " 'Macon': 11,\n",
       " 'Makati City': 2,\n",
       " 'Manchester': 11,\n",
       " 'Mandaluyong City': 4,\n",
       " 'Mangalore': 2,\n",
       " 'Mayfield': 0,\n",
       " 'Mc Millan': 0,\n",
       " 'Middleton Beach': 0,\n",
       " 'Miller': 0,\n",
       " 'Mohali': 1,\n",
       " 'Monroe': 0,\n",
       " 'Montville': 0,\n",
       " 'Mumbai': 9,\n",
       " 'Mysore': 1,\n",
       " 'Nagpur': 7,\n",
       " 'Nashik': 0,\n",
       " 'New Delhi': 239,\n",
       " 'Noida': 20,\n",
       " 'Ojo Caliente': 0,\n",
       " 'Orlando': 19,\n",
       " 'Palm Cove': 1,\n",
       " 'Panchkula': 1,\n",
       " 'Pasay City': 2,\n",
       " 'Pasig City': 3,\n",
       " 'Patna': 0,\n",
       " 'Paynesville': 0,\n",
       " 'Penola': 0,\n",
       " 'Pensacola': 14,\n",
       " 'Phillip Island': 0,\n",
       " 'Pocatello': 1,\n",
       " 'Potrero': 0,\n",
       " 'Pretoria': 13,\n",
       " 'Princeton': 0,\n",
       " 'Puducherry': 3,\n",
       " 'Pune': 17,\n",
       " 'Quezon City': 1,\n",
       " 'Ranchi': 0,\n",
       " 'Randburg': 1,\n",
       " 'Rest of Hawaii': 18,\n",
       " 'Rio de Janeiro': 17,\n",
       " 'San Juan City': 2,\n",
       " 'Sandton': 9,\n",
       " 'Santa Rosa': 0,\n",
       " 'Savannah': 14,\n",
       " 'Secunderabad': 2,\n",
       " 'Sharjah': 13,\n",
       " 'Singapore': 2,\n",
       " 'Sioux City': 0,\n",
       " 'Surat': 8,\n",
       " 'São Paulo': 12,\n",
       " 'Tagaytay City': 1,\n",
       " 'Taguig City': 4,\n",
       " 'Tampa Bay': 17,\n",
       " 'Tangerang': 1,\n",
       " 'Tanunda': 1,\n",
       " 'Trentham East': 1,\n",
       " 'Vadodara': 9,\n",
       " 'Valdosta': 1,\n",
       " 'Varanasi': 1,\n",
       " 'Vernonia': 1,\n",
       " 'Victor Harbor': 0,\n",
       " 'Vineland Station': 1,\n",
       " 'Vizag': 9,\n",
       " 'Waterloo': 0,\n",
       " 'Weirton': 0,\n",
       " 'Wellington City': 18,\n",
       " 'Winchester Bay': 0,\n",
       " 'Yorkton': 0,\n",
       " 'İstanbul': 14}"
      ]
     },
     "execution_count": 149,
     "metadata": {},
     "output_type": "execute_result"
    }
   ],
   "source": [
    "diccl"
   ]
  },
  {
   "cell_type": "code",
   "execution_count": 150,
   "metadata": {},
   "outputs": [
    {
     "data": {
      "image/png": "[encoded data removed]",
      "text/plain": [
       "<matplotlib.figure.Figure at 0x21de099d908>"
      ]
     },
     "metadata": {},
     "output_type": "display_data"
    }
   ],
   "source": [
    "plt.show()"
   ]
  },
  {
   "cell_type": "code",
   "execution_count": 151,
   "metadata": {
    "collapsed": true
   },
   "outputs": [],
   "source": [
    "x =l[0:5]"
   ]
  },
  {
   "cell_type": "code",
   "execution_count": 152,
   "metadata": {},
   "outputs": [
    {
     "data": {
      "text/plain": [
       "(array([ 3.,  1.,  0.,  0.,  0.,  0.,  0.,  0.,  0.,  1.]),\n",
       " array([  19.,   41.,   63.,   85.,  107.,  129.,  151.,  173.,  195.,\n",
       "         217.,  239.]),\n",
       " <a list of 10 Patch objects>)"
      ]
     },
     "execution_count": 152,
     "metadata": {},
     "output_type": "execute_result"
    }
   ],
   "source": [
    "plt.hist(x)"
   ]
  },
  {
   "cell_type": "code",
   "execution_count": 153,
   "metadata": {},
   "outputs": [
    {
     "data": {
      "image/png": "[encoded data removed]",
      "text/plain": [
       "<matplotlib.figure.Figure at 0x21deff05978>"
      ]
     },
     "metadata": {},
     "output_type": "display_data"
    }
   ],
   "source": [
    "plt.show()"
   ]
  },
  {
   "cell_type": "code",
   "execution_count": null,
   "metadata": {
    "collapsed": true
   },
   "outputs": [],
   "source": []
  }
 ],
 "metadata": {
  "kernelspec": {
   "display_name": "Python 3",
   "language": "python",
   "name": "python3"
  },
  "language_info": {
   "codemirror_mode": {
    "name": "ipython",
    "version": 3
   },
   "file_extension": ".py",
   "mimetype": "text/x-python",
   "name": "python",
   "nbconvert_exporter": "python",
   "pygments_lexer": "ipython3",
   "version": "3.6.3"
  }
 },
 "nbformat": 4,
 "nbformat_minor": 2
}
