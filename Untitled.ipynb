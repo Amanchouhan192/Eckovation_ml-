{
 "cells": [
  {
   "cell_type": "code",
   "execution_count": 1,
   "metadata": {
    "collapsed": true
   },
   "outputs": [],
   "source": [
    "import json\n",
    "\n",
    "file1 = open(\"C:\\\\Users\\\\Aman\\\\Desktop\\\\Eckovation_ml-\\\\ZomatoDataForAnalyse\\\\file1.json\",\"r\")\n",
    "d1=json.loads(file1.read())\n",
    "file2 = open(\"C:\\\\Users\\\\Aman\\\\Desktop\\\\Eckovation_ml-\\\\ZomatoDataForAnalyse\\\\file2.json\",\"r\")\n",
    "d2=json.loads(file2.read())\n",
    "file3 = open(\"C:\\\\Users\\\\Aman\\\\Desktop\\\\Eckovation_ml-\\\\ZomatoDataForAnalyse\\\\file3.json\",\"r\")\n",
    "d3=json.loads(file3.read())\n",
    "file4 = open(\"C:\\\\Users\\\\Aman\\\\Desktop\\\\Eckovation_ml-\\\\ZomatoDataForAnalyse\\\\file4.json\",\"r\")\n",
    "d4=json.loads(file4.read())\n",
    "file5 = open(\"C:\\\\Users\\\\Aman\\\\Desktop\\\\Eckovation_ml-\\\\ZomatoDataForAnalyse\\\\file5.json\",\"r\")\n",
    "d5=json.loads(file5.read())\n",
    "\n",
    "jsonlist=[d1,d2,d3,d4,d5]\n"
   ]
  },
  {
   "cell_type": "code",
   "execution_count": 6,
   "metadata": {},
   "outputs": [],
   "source": [
    "diccl={}\n",
    "idlis=[]\n",
    "for d in jsonlist:\n",
    "    for i in range(len(d)):\n",
    "        if(\"restaurants\" in d[i]):\n",
    "            for j in range(len(d[i][\"restaurants\"])):\n",
    "                if (d[i][\"restaurants\"][j][\"restaurant\"][\"id\"] not in idlis):\n",
    "                    idlis.append(d[i][\"restaurants\"][j][\"restaurant\"][\"id\"])\n",
    "                    if(d[i][\"restaurants\"][j][\"restaurant\"][\"location\"][\"city\"] not in diccl):\n",
    "                        diccl[d[i][\"restaurants\"][j][\"restaurant\"][\"location\"][\"city\"]]=0\n",
    "                    if(float(d[i][\"restaurants\"][j][\"restaurant\"][\"user_rating\"][\"aggregate_rating\"])>4.0):\n",
    "                        diccl[d[i][\"restaurants\"][j][\"restaurant\"][\"location\"][\"city\"]]+=1"
   ]
  },
  {
   "cell_type": "code",
   "execution_count": 7,
   "metadata": {
    "collapsed": true
   },
   "outputs": [],
   "source": [
    "l=sorted(diccl.items(),key=lambda x:x[1],reverse=True)"
   ]
  },
  {
   "cell_type": "code",
   "execution_count": 35,
   "metadata": {},
   "outputs": [
    {
     "data": {
      "text/plain": [
       "[('New Delhi', 239),\n",
       " ('Gurgaon', 62),\n",
       " ('Noida', 20),\n",
       " ('London', 19),\n",
       " ('Orlando', 19),\n",
       " ('Ankara', 18),\n",
       " ('Wellington City', 18),\n",
       " ('Rest of Hawaii', 18),\n",
       " ('Bangalore', 17),\n",
       " ('Pune', 17),\n",
       " ('Dubai', 17),\n",
       " ('Rio de Janeiro', 17),\n",
       " ('Tampa Bay', 17),\n",
       " ('Athens', 17),\n",
       " ('Chennai', 16),\n",
       " ('Guwahati', 16),\n",
       " ('Boise', 16),\n",
       " ('Hyderabad', 15),\n",
       " ('Lucknow', 15),\n",
       " ('Goa', 15),\n",
       " ('Auckland', 15),\n",
       " ('Des Moines', 15),\n",
       " ('Cedar Rapids/Iowa City', 15),\n",
       " ('Kolkata', 14),\n",
       " ('Ahmedabad', 14),\n",
       " ('Abu Dhabi', 14),\n",
       " ('İstanbul', 14),\n",
       " ('Pensacola', 14),\n",
       " ('Savannah', 14),\n",
       " ('Sharjah', 13),\n",
       " ('Jakarta', 13),\n",
       " ('Pretoria', 13),\n",
       " ('Dalton', 13),\n",
       " ('Jaipur', 12),\n",
       " ('São Paulo', 12),\n",
       " ('Kochi', 11),\n",
       " ('Coimbatore', 11),\n",
       " ('Cape Town', 11),\n",
       " ('Manchester', 11),\n",
       " ('Gainesville', 11),\n",
       " ('Macon', 11),\n",
       " ('Davenport', 11),\n",
       " ('Chandigarh', 10),\n",
       " ('Edinburgh', 10),\n",
       " ('Augusta', 10),\n",
       " ('Mumbai', 9),\n",
       " ('Ludhiana', 9),\n",
       " ('Vizag', 9),\n",
       " ('Vadodara', 9),\n",
       " ('Colombo', 9),\n",
       " ('Sandton', 9),\n",
       " ('Columbus', 9),\n",
       " ('Indore', 8),\n",
       " ('Bhopal', 8),\n",
       " ('Bhubaneshwar', 8),\n",
       " ('Dehradun', 8),\n",
       " ('Surat', 8),\n",
       " ('Doha', 8),\n",
       " ('Nagpur', 7),\n",
       " ('Agra', 7),\n",
       " ('Johannesburg', 5),\n",
       " ('Birmingham', 5),\n",
       " ('Kanpur', 4),\n",
       " ('Taguig City', 4),\n",
       " ('Mandaluyong City', 4),\n",
       " ('Brasília', 4),\n",
       " ('Amritsar', 3),\n",
       " ('Puducherry', 3),\n",
       " ('Pasig City', 3),\n",
       " ('Faridabad', 3),\n",
       " ('Secunderabad', 2),\n",
       " ('Mangalore', 2),\n",
       " ('Singapore', 2),\n",
       " ('Makati City', 2),\n",
       " ('Pasay City', 2),\n",
       " ('San Juan City', 2),\n",
       " ('Inner City', 2),\n",
       " ('Mohali', 1),\n",
       " ('Panchkula', 1),\n",
       " ('Mysore', 1),\n",
       " ('Varanasi', 1),\n",
       " ('Quezon City', 1),\n",
       " ('Tagaytay City', 1),\n",
       " ('Randburg', 1),\n",
       " ('Tangerang', 1),\n",
       " ('Vernonia', 1),\n",
       " ('Trentham East', 1),\n",
       " ('Vineland Station', 1),\n",
       " ('Tanunda', 1),\n",
       " ('Clatskanie', 1),\n",
       " ('Bandung', 1),\n",
       " ('Huskisson', 1),\n",
       " ('Beechworth', 1),\n",
       " ('East Ballina', 1),\n",
       " ('Lincoln', 1),\n",
       " ('Palm Cove', 1),\n",
       " ('Valdosta', 1),\n",
       " ('Pocatello', 1),\n",
       " ('Nashik', 0),\n",
       " ('Allahabad', 0),\n",
       " ('Aurangabad', 0),\n",
       " ('Ranchi', 0),\n",
       " ('Patna', 0),\n",
       " ('Dummy', 0),\n",
       " ('Bogor', 0),\n",
       " ('Yorkton', 0),\n",
       " ('Mayfield', 0),\n",
       " ('Dicky Beach', 0),\n",
       " ('Lakes Entrance', 0),\n",
       " ('Hepburn Springs', 0),\n",
       " ('Ojo Caliente', 0),\n",
       " ('Inverloch', 0),\n",
       " ('Weirton', 0),\n",
       " ('Potrero', 0),\n",
       " ('Cochrane', 0),\n",
       " ('Princeton', 0),\n",
       " ('Ghaziabad', 0),\n",
       " ('Fernley', 0),\n",
       " ('Middleton Beach', 0),\n",
       " ('Mc Millan', 0),\n",
       " ('Lorn', 0),\n",
       " ('Victor Harbor', 0),\n",
       " ('Armidale', 0),\n",
       " ('Winchester Bay', 0),\n",
       " ('Forrest', 0),\n",
       " ('Macedon', 0),\n",
       " ('Monroe', 0),\n",
       " ('Phillip Island', 0),\n",
       " ('Consort', 0),\n",
       " ('Santa Rosa', 0),\n",
       " ('Penola', 0),\n",
       " ('Chatham-Kent', 0),\n",
       " ('Paynesville', 0),\n",
       " ('Miller', 0),\n",
       " ('Montville', 0),\n",
       " ('Flaxton', 0),\n",
       " ('Lakeview', 0),\n",
       " ('Balingup', 0),\n",
       " ('Albany', 0),\n",
       " ('Sioux City', 0),\n",
       " ('Waterloo', 0),\n",
       " ('Dubuque', 0)]"
      ]
     },
     "execution_count": 35,
     "metadata": {},
     "output_type": "execute_result"
    }
   ],
   "source": [
    "l"
   ]
  },
  {
   "cell_type": "code",
   "execution_count": 27,
   "metadata": {
    "collapsed": true
   },
   "outputs": [],
   "source": [
    "x=[]\n",
    "y=[]\n",
    "for i in range(6):\n",
    "    x.append(l[i][0])\n",
    "    y.append(l[i][1])"
   ]
  },
  {
   "cell_type": "code",
   "execution_count": 28,
   "metadata": {
    "collapsed": true
   },
   "outputs": [],
   "source": [
    "import matplotlib.pyplot as plt"
   ]
  },
  {
   "cell_type": "code",
   "execution_count": 29,
   "metadata": {},
   "outputs": [
    {
     "data": {
      "text/plain": [
       "[<matplotlib.lines.Line2D at 0x1a19a616e48>]"
      ]
     },
     "execution_count": 29,
     "metadata": {},
     "output_type": "execute_result"
    }
   ],
   "source": [
    "plt.plot(x,y)"
   ]
  },
  {
   "cell_type": "code",
   "execution_count": 30,
   "metadata": {},
   "outputs": [
    {
     "data": {
      "image/png": "[encoded data removed]",
      "text/plain": [
       "<matplotlib.figure.Figure at 0x1a1992da198>"
      ]
     },
     "metadata": {},
     "output_type": "display_data"
    }
   ],
   "source": [
    "plt.show()"
   ]
  },
  {
   "cell_type": "code",
   "execution_count": 21,
   "metadata": {},
   "outputs": [
    {
     "data": {
      "text/plain": [
       "142"
      ]
     },
     "execution_count": 21,
     "metadata": {},
     "output_type": "execute_result"
    }
   ],
   "source": [
    "len(l)"
   ]
  },
  {
   "cell_type": "code",
   "execution_count": 22,
   "metadata": {
    "collapsed": true
   },
   "outputs": [],
   "source": [
    "sum=0\n",
    "for i in range(4):\n",
    "    sum+=len(jsonlist[i])"
   ]
  },
  {
   "cell_type": "code",
   "execution_count": 13,
   "metadata": {},
   "outputs": [
    {
     "data": {
      "text/plain": [
       "2058"
      ]
     },
     "execution_count": 13,
     "metadata": {},
     "output_type": "execute_result"
    }
   ],
   "source": [
    "sum"
   ]
  }
 ],
 "metadata": {
  "kernelspec": {
   "display_name": "Python 3",
   "language": "python",
   "name": "python3"
  },
  "language_info": {
   "codemirror_mode": {
    "name": "ipython",
    "version": 3
   },
   "file_extension": ".py",
   "mimetype": "text/x-python",
   "name": "python",
   "nbconvert_exporter": "python",
   "pygments_lexer": "ipython3",
   "version": "3.6.3"
  }
 },
 "nbformat": 4,
 "nbformat_minor": 2
}
