{
 "cells": [
  {
   "cell_type": "code",
   "execution_count": 7,
   "metadata": {},
   "outputs": [],
   "source": [
    "import csv\n",
    "l=[]\n",
    "with open (\"C:\\\\ML and AI\\\\MMT.csv\",encoding=\"latin-1\") as csvfile:\n",
    "    spamreader=csv.reader(csvfile,delimiter=\",\",quotechar='\"')\n",
    "    for row in spamreader:\n",
    "        l.append(row)"
   ]
  },
  {
   "cell_type": "code",
   "execution_count": 85,
   "metadata": {
    "scrolled": true
   },
   "outputs": [],
   "source": [
    "idlis1=[]\n",
    "idlis2=[]\n",
    "lis=[0,0,0,0,0,0,0,0,0,0]\n",
    "dic={}\n",
    "for i in range(1,len(l),1):\n",
    "    if ((l[i][32] not in idlis1) and (l[i][20] not in idlis2)):\n",
    "        try:\n",
    "            x=float(l[i][16])\n",
    "        except:\n",
    "            x=0\n",
    "        try:\n",
    "            y=float(l[i][18])\n",
    "        except:\n",
    "            y=0\n",
    "        idlis1.append(l[i][32])\n",
    "        idlis2.append(l[i][20])\n",
    "        if(lis[0]<x*y):\n",
    "            lis[0]=x*y\n",
    "            lis.sort()\n",
    "            dic[x*y]=[l[i][22],l[i][20],l[i][0],l[i][1]]"
   ]
  },
  {
   "cell_type": "code",
   "execution_count": 86,
   "metadata": {},
   "outputs": [
    {
     "name": "stdout",
     "output_type": "stream",
     "text": [
      "Rank =  1\n",
      "Name =  ['The Taj Mahal Palace', 'Apollo Bunder, Near Gateway Of India, , Colaba', 'South Mumbai,Colaba', 'Mumbai']\n",
      "\n",
      "\n",
      "Rank =  2\n",
      "Name =  ['Radisson Blu Agra Taj East Gate', 'Taj East Gate Road , 01 km from Taj Mahal', 'East Gate Road,Fatehabad Road,East Agra', 'WeekendGetawaysAroundDelhi']\n",
      "\n",
      "\n",
      "Rank =  3\n",
      "Name =  ['The Oberoi Amarvilas', 'Taj East Gate Road 0.6 km from Taj Mahal', 'The Agra Fort', 'Agra']\n",
      "\n",
      "\n",
      "Rank =  4\n",
      "Name =  ['Trident Udaipur', 'Haridasji Ki Magri, Mulla Talai', 'Mulla Talai', 'Udaipur']\n",
      "\n",
      "\n",
      "Rank =  5\n",
      "Name =  ['ITC Rajputana - A Luxury Collection Hotel', 'Palace Road ,', 'Station Road', 'Jaipur']\n",
      "\n",
      "\n",
      "Rank =  6\n",
      "Name =  ['Trident Nariman Point', 'Nariman Point , Nariman Point', 'South Mumbai,Nariman Point', 'Mumbai']\n",
      "\n",
      "\n",
      "Rank =  7\n",
      "Name =  ['Umaid Bhawan', 'D1-2a, Behind Collectorate, (via) Bank Road, Bani Park Banipark', 'Bani Park', 'Jaipur']\n",
      "\n",
      "\n",
      "Rank =  8\n",
      "Name =  ['ITC Maurya- A Luxury Collection Hotel', 'Diplomatic Enclave , Sardar Patel Marg', 'South Delhi,Dhaula Kuan', 'NewDelhiAndNCR']\n",
      "\n",
      "\n",
      "Rank =  9\n",
      "Name =  ['Sofitel Mumbai - BKC', 'C-57, Bandra Kurla Complex,Bandra East', 'Bandra Kurla Complex', 'Mumbai']\n",
      "\n",
      "\n",
      "Rank =  10\n",
      "Name =  ['Park Hyatt Goa Resort and Spa', 'Arossim Beach, Cansaulim,South Goa , Cansaulim,South Goa', 'South Goa,Arossim Beach', 'Goa']\n",
      "\n",
      "\n"
     ]
    }
   ],
   "source": [
    "lis.reverse()\n",
    "for i in range(10):\n",
    "    print(\"Rank = \",i+1)\n",
    "    print(\"Name = \",dic[lis[i]])\n",
    "    print(\"\\n\")"
   ]
  },
  {
   "cell_type": "code",
   "execution_count": null,
   "metadata": {},
   "outputs": [],
   "source": []
  }
 ],
 "metadata": {
  "kernelspec": {
   "display_name": "Python 3",
   "language": "python",
   "name": "python3"
  },
  "language_info": {
   "codemirror_mode": {
    "name": "ipython",
    "version": 3
   },
   "file_extension": ".py",
   "mimetype": "text/x-python",
   "name": "python",
   "nbconvert_exporter": "python",
   "pygments_lexer": "ipython3",
   "version": "3.6.5"
  }
 },
 "nbformat": 4,
 "nbformat_minor": 2
}
