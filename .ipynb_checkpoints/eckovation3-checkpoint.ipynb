{
 "cells": [
  {
   "cell_type": "code",
   "execution_count": 12,
   "metadata": {
    "collapsed": true
   },
   "outputs": [],
   "source": [
    "def f(x=2):\n",
    "    print \"the value \"+str(x)"
   ]
  },
  {
   "cell_type": "code",
   "execution_count": 13,
   "metadata": {},
   "outputs": [
    {
     "name": "stdout",
     "output_type": "stream",
     "text": [
      "the value 4\n"
     ]
    }
   ],
   "source": [
    "f(4)"
   ]
  },
  {
   "cell_type": "code",
   "execution_count": 15,
   "metadata": {},
   "outputs": [
    {
     "name": "stdout",
     "output_type": "stream",
     "text": [
      "the value 2\n"
     ]
    }
   ],
   "source": [
    "f()"
   ]
  },
  {
   "cell_type": "code",
   "execution_count": 16,
   "metadata": {},
   "outputs": [
    {
     "name": "stdout",
     "output_type": "stream",
     "text": [
      "the value s\n"
     ]
    }
   ],
   "source": [
    "f(\"s\")"
   ]
  },
  {
   "cell_type": "code",
   "execution_count": 22,
   "metadata": {
    "collapsed": true
   },
   "outputs": [],
   "source": [
    "f=lambda x1,x2:(x1+x2)"
   ]
  },
  {
   "cell_type": "code",
   "execution_count": 23,
   "metadata": {},
   "outputs": [
    {
     "data": {
      "text/plain": [
       "5"
      ]
     },
     "execution_count": 23,
     "metadata": {},
     "output_type": "execute_result"
    }
   ],
   "source": [
    "f(2,3)"
   ]
  },
  {
   "cell_type": "code",
   "execution_count": 24,
   "metadata": {},
   "outputs": [
    {
     "name": "stdout",
     "output_type": "stream",
     "text": [
      "6\n"
     ]
    }
   ],
   "source": [
    "count=5\n",
    "def f():\n",
    "    count=6\n",
    "    print count\n",
    "f()"
   ]
  },
  {
   "cell_type": "code",
   "execution_count": 25,
   "metadata": {},
   "outputs": [
    {
     "name": "stdout",
     "output_type": "stream",
     "text": [
      "5\n"
     ]
    }
   ],
   "source": [
    "count=5\n",
    "def f():\n",
    "    print count\n",
    "f()"
   ]
  },
  {
   "cell_type": "code",
   "execution_count": 29,
   "metadata": {},
   "outputs": [
    {
     "data": {
      "text/plain": [
       "'count=5\\ndef f():\\n    count=count+1\\n    print count\\nf()'"
      ]
     },
     "execution_count": 29,
     "metadata": {},
     "output_type": "execute_result"
    }
   ],
   "source": [
    "'''count=5\n",
    "def f():\n",
    "    count=count+1\n",
    "    print count\n",
    "f()'''"
   ]
  },
  {
   "cell_type": "code",
   "execution_count": 27,
   "metadata": {},
   "outputs": [
    {
     "name": "stdout",
     "output_type": "stream",
     "text": [
      "6\n",
      "5\n"
     ]
    }
   ],
   "source": [
    "count=5\n",
    "def f():\n",
    "    count=6\n",
    "    print count\n",
    "f()\n",
    "print count"
   ]
  },
  {
   "cell_type": "code",
   "execution_count": 28,
   "metadata": {},
   "outputs": [
    {
     "name": "stdout",
     "output_type": "stream",
     "text": [
      "7\n",
      "5\n"
     ]
    }
   ],
   "source": [
    "count=5\n",
    "def f():\n",
    "    count=6\n",
    "    count=count+1\n",
    "    print count\n",
    "f()\n",
    "print count"
   ]
  },
  {
   "cell_type": "markdown",
   "metadata": {},
   "source": [
    "file name ,local variable in snake_case "
   ]
  },
  {
   "cell_type": "markdown",
   "metadata": {},
   "source": [
    "global variable in camelCase"
   ]
  },
  {
   "cell_type": "code",
   "execution_count": 30,
   "metadata": {},
   "outputs": [
    {
     "name": "stdout",
     "output_type": "stream",
     "text": [
      "6\n",
      "6\n"
     ]
    }
   ],
   "source": [
    "count=5\n",
    "def f():\n",
    "    global count\n",
    "    count=count+1\n",
    "    print count\n",
    "f()\n",
    "print count"
   ]
  },
  {
   "cell_type": "markdown",
   "metadata": {},
   "source": [
    "# oops"
   ]
  },
  {
   "cell_type": "code",
   "execution_count": 199,
   "metadata": {},
   "outputs": [
    {
     "name": "stdout",
     "output_type": "stream",
     "text": [
      "Constructor\n",
      "<__main__.Car instance at 0x000000000775BA08>\n"
     ]
    }
   ],
   "source": [
    "class Car:\n",
    "    def __init__(self):\n",
    "        self.speed=0\n",
    "        print(\"Constructor\")\n",
    "car=Car()\n",
    "print(car)"
   ]
  },
  {
   "cell_type": "code",
   "execution_count": 40,
   "metadata": {},
   "outputs": [
    {
     "name": "stdout",
     "output_type": "stream",
     "text": [
      "10\n"
     ]
    }
   ],
   "source": [
    "class Car:\n",
    "    def __init__(self,name,color):\n",
    "        self.name=name\n",
    "        self.color=color\n",
    "        self.speed=0\n",
    "    def incSpeed(self):\n",
    "        self.speed+=10\n",
    "        print(self.speed)\n",
    "car=Car(\"M\",\"Red\")\n",
    "car.incSpeed()"
   ]
  },
  {
   "cell_type": "code",
   "execution_count": 41,
   "metadata": {},
   "outputs": [
    {
     "name": "stdout",
     "output_type": "stream",
     "text": [
      "10\n"
     ]
    }
   ],
   "source": [
    "class Car:\n",
    "    def __init__(self1,name,color):\n",
    "        self1.name=name\n",
    "        self1.color=color\n",
    "        self1.speed=0\n",
    "    def incSpeed(self1):\n",
    "        self1.speed+=10\n",
    "        print(self1.speed)\n",
    "car=Car(\"M\",\"Red\")\n",
    "car.incSpeed()"
   ]
  },
  {
   "cell_type": "code",
   "execution_count": 44,
   "metadata": {},
   "outputs": [
    {
     "name": "stdout",
     "output_type": "stream",
     "text": [
      "10\n",
      "My name is M,Red\n"
     ]
    }
   ],
   "source": [
    "class Car():\n",
    "    def __init__(self,name,color):\n",
    "        self.name=name\n",
    "        self.color=color\n",
    "        self.speed=0\n",
    "    def incSpeed(self):\n",
    "        self.speed+=10\n",
    "        print(self.speed)\n",
    "    def __str__(self):\n",
    "        return (\"My name is \"+self.name+\",\"+self.color)\n",
    "car=Car(\"M\",\"Red\")\n",
    "car.incSpeed()\n",
    "print(car)"
   ]
  },
  {
   "cell_type": "code",
   "execution_count": 200,
   "metadata": {
    "collapsed": true
   },
   "outputs": [],
   "source": [
    "class Complex:\n",
    "    def __init__(self,x,y):\n",
    "        self.r=x\n",
    "        self.i=y\n",
    "    def add(self,a):\n",
    "        self.r=self.r+a.r\n",
    "        self.i=self.i+a.i\n",
    "    def display(self):\n",
    "        print self.r,self.i\n",
    "    def __str__(self):\n",
    "        return (str(self.r)+\"+i\"+str(self.i))"
   ]
  },
  {
   "cell_type": "code",
   "execution_count": 201,
   "metadata": {},
   "outputs": [
    {
     "name": "stdout",
     "output_type": "stream",
     "text": [
      "21+i7\n",
      "21 7\n",
      "21+i7\n"
     ]
    }
   ],
   "source": [
    "c=Complex(10,5)\n",
    "d=Complex(11,2)\n",
    "c.add(d)\n",
    "print(c)\n",
    "c.display()\n",
    "print(c)"
   ]
  },
  {
   "cell_type": "markdown",
   "metadata": {},
   "source": [
    "Strongly,Weakly,implicit,explicit datatype"
   ]
  },
  {
   "cell_type": "code",
   "execution_count": 83,
   "metadata": {
    "collapsed": true
   },
   "outputs": [],
   "source": [
    "import math"
   ]
  },
  {
   "cell_type": "code",
   "execution_count": 84,
   "metadata": {},
   "outputs": [
    {
     "data": {
      "text/plain": [
       "2.0"
      ]
     },
     "execution_count": 84,
     "metadata": {},
     "output_type": "execute_result"
    }
   ],
   "source": [
    "math.sqrt(4)"
   ]
  },
  {
   "cell_type": "code",
   "execution_count": 86,
   "metadata": {
    "collapsed": true
   },
   "outputs": [],
   "source": [
    "file=open(\"C:\\\\Users\\\\1\\\\Desktop\\\\datafile.csv\",\"r\")\n",
    "a=file.readlines()"
   ]
  },
  {
   "cell_type": "code",
   "execution_count": 114,
   "metadata": {
    "collapsed": true
   },
   "outputs": [],
   "source": [
    "l=[]\n",
    "for i in a:\n",
    "    l.append(i.split(\",\")[3])\n",
    "del l[0]\n",
    "del l[len(l)-1]\n",
    "for i in range (len(l)):\n",
    "    l[i]=float(l[i])"
   ]
  },
  {
   "cell_type": "code",
   "execution_count": 115,
   "metadata": {
    "collapsed": true
   },
   "outputs": [],
   "source": [
    "import numpy"
   ]
  },
  {
   "cell_type": "code",
   "execution_count": 116,
   "metadata": {},
   "outputs": [
    {
     "data": {
      "text/plain": [
       "2582.8000000000002"
      ]
     },
     "execution_count": 116,
     "metadata": {},
     "output_type": "execute_result"
    }
   ],
   "source": [
    "numpy.mean(l)"
   ]
  },
  {
   "cell_type": "code",
   "execution_count": 141,
   "metadata": {
    "collapsed": true
   },
   "outputs": [],
   "source": [
    "class Complex:\n",
    "    q=0\n",
    "    def __init__(self,x,y):\n",
    "        self.r=x\n",
    "        self.i=y\n",
    "        q=20\n",
    "    def add(self,a):\n",
    "        self.r=self.r+a.r\n",
    "        self.i=self.i+a.i\n",
    "        q=30\n",
    "    def display(self):\n",
    "        q=40\n",
    "        print self.r,self.i,self.q\n",
    "    def dis(self):\n",
    "        print q"
   ]
  },
  {
   "cell_type": "code",
   "execution_count": 142,
   "metadata": {
    "collapsed": true
   },
   "outputs": [],
   "source": [
    "c=Complex(10,20)"
   ]
  },
  {
   "cell_type": "code",
   "execution_count": 156,
   "metadata": {},
   "outputs": [
    {
     "data": {
      "text/plain": [
       "37"
      ]
     },
     "execution_count": 156,
     "metadata": {},
     "output_type": "execute_result"
    }
   ],
   "source": [
    "Complex.q=60\n",
    "c.q=37\n",
    "c.q"
   ]
  },
  {
   "cell_type": "code",
   "execution_count": 153,
   "metadata": {},
   "outputs": [
    {
     "data": {
      "text/plain": [
       "60"
      ]
     },
     "execution_count": 153,
     "metadata": {},
     "output_type": "execute_result"
    }
   ],
   "source": [
    "Complex.q"
   ]
  },
  {
   "cell_type": "code",
   "execution_count": 154,
   "metadata": {
    "collapsed": true
   },
   "outputs": [],
   "source": [
    "d=Complex(20,40)"
   ]
  },
  {
   "cell_type": "code",
   "execution_count": 155,
   "metadata": {},
   "outputs": [
    {
     "data": {
      "text/plain": [
       "60"
      ]
     },
     "execution_count": 155,
     "metadata": {},
     "output_type": "execute_result"
    }
   ],
   "source": [
    "d.q"
   ]
  },
  {
   "cell_type": "code",
   "execution_count": 159,
   "metadata": {},
   "outputs": [
    {
     "data": {
      "text/plain": [
       "18"
      ]
     },
     "execution_count": 159,
     "metadata": {},
     "output_type": "execute_result"
    }
   ],
   "source": [
    "import random\n",
    "random.randint(5,34)"
   ]
  },
  {
   "cell_type": "code",
   "execution_count": 160,
   "metadata": {
    "scrolled": true
   },
   "outputs": [
    {
     "data": {
      "text/plain": [
       "['',\n",
       " 'C:\\\\Users\\\\1\\\\Anaconda2\\\\python27.zip',\n",
       " 'C:\\\\Users\\\\1\\\\Anaconda2\\\\DLLs',\n",
       " 'C:\\\\Users\\\\1\\\\Anaconda2\\\\lib',\n",
       " 'C:\\\\Users\\\\1\\\\Anaconda2\\\\lib\\\\plat-win',\n",
       " 'C:\\\\Users\\\\1\\\\Anaconda2\\\\lib\\\\lib-tk',\n",
       " 'C:\\\\Users\\\\1\\\\Anaconda2',\n",
       " 'C:\\\\Users\\\\1\\\\Anaconda2\\\\lib\\\\site-packages',\n",
       " 'C:\\\\Users\\\\1\\\\Anaconda2\\\\lib\\\\site-packages\\\\Babel-2.5.0-py2.7.egg',\n",
       " 'C:\\\\Users\\\\1\\\\Anaconda2\\\\lib\\\\site-packages\\\\win32',\n",
       " 'C:\\\\Users\\\\1\\\\Anaconda2\\\\lib\\\\site-packages\\\\win32\\\\lib',\n",
       " 'C:\\\\Users\\\\1\\\\Anaconda2\\\\lib\\\\site-packages\\\\Pythonwin',\n",
       " 'C:\\\\Users\\\\1\\\\Anaconda2\\\\lib\\\\site-packages\\\\IPython\\\\extensions',\n",
       " 'C:\\\\Users\\\\1\\\\.ipython']"
      ]
     },
     "execution_count": 160,
     "metadata": {},
     "output_type": "execute_result"
    }
   ],
   "source": [
    "import sys\n",
    "sys.path"
   ]
  },
  {
   "cell_type": "code",
   "execution_count": 161,
   "metadata": {},
   "outputs": [
    {
     "data": {
      "text/plain": [
       "'<!doctype html><html itemscope=\"\" itemtype=\"http://schema.org/WebPage\" lang=\"en-IN\"><head><meta content=\"text/html; charset=UTF-8\" http-equiv=\"Content-Type\"><meta content=\"/images/branding/googleg/1x/googleg_standard_color_128dp.png\" itemprop=\"image\"><title>Google</title><script nonce=\"bzvjfXhkoi9dSryhfCITew==\">(function(){window.google={kEI:\\'NQwqW-2gE4jWvgTb14yQAQ\\',kEXPI:\\'0,201836,1151910,58,1957,930,88,281,159,550,900,587,84,69,131,105,18,33,218,101,46,17,135,55,2339794,211,216,32,21,329273,1294,12383,2349,2506,32692,15247,867,316,453,7,792,7,10588,6381,3335,2,2,2138,2467,2196,368,549,664,326,1776,113,2201,3191,224,502,5,336,1369,136,130,1028,2713,887,479,444,131,1119,2,579,663,64,311,3,298,1819,59,2,2,2,1297,283,1060,369,877,499,505,277,453,377,26,1214,479,664,630,8,274,26,1270,221,491,61,1233,1021,277,2,694,148,195,87,1666,35,428,330,28,850,525,22,180,259,160,5,2,2,151,506,443,647,163,388,193,3,741,194,5,391,29,272,33,864,2096,296,541,102,701,35,169,475,61,77,51,54,87,84,26,334,51,1,71,7,325,25,71,62,756,105,386,8,902,182,7,3,25,86,1731,3,186,4,4,4,4,69,10,135,106,165,261,71,21,105,50,62,2329967,3685998,2545,9,5997613,2800173,4,1572,549,332,445,1,2,1,1,77,1,1,900,207,1,1,1,1,1,371,9,304,1,8,1,2,1,1,1158,6,2,304,2,5,1,13,17,15,8,7,22,15,1,1,1,1,1,20,1,26,7,18,22310284\\',authuser:0,kscs:\\'c9c918f0_NQwqW-2gE4jWvgTb14yQAQ\\',kGL:\\'IN\\'};google.kHL=\\'en-IN\\';})();google.time=function(){return(new Date).getTime()};(function(){google.lc=[];google.li=0;google.getEI=function(a){for(var b;a&&(!a.getAttribute||!(b=a.getAttribute(\"eid\")));)a=a.parentNode;return b||google.kEI};google.getLEI=function(a){for(var b=null;a&&(!a.getAttribute||!(b=a.getAttribute(\"leid\")));)a=a.parentNode;return b};google.https=function(){return\"https:\"==window.location.protocol};google.ml=function(){return null};google.wl=function(a,b){try{google.ml(Error(a),!1,b)}catch(d){}};google.log=function(a,b,d,c,g){if(a=google.logUrl(a,b,d,c,g)){b=new Image;var e=google.lc,f=google.li;e[f]=b;b.onerror=b.onload=b.onabort=function(){delete e[f]};google.vel&&google.vel.lu&&google.vel.lu(a);b.src=a;google.li=f+1}};google.logUrl=function(a,b,d,c,g){var e=\"\",f=google.ls||\"\";d||-1!=b.search(\"&ei=\")||(e=\"&ei=\"+google.getEI(c),-1==b.search(\"&lei=\")&&(c=google.getLEI(c))&&(e+=\"&lei=\"+c));c=\"\";!d&&google.cshid&&-1==b.search(\"&cshid=\")&&(c=\"&cshid=\"+google.cshid);a=d||\"/\"+(g||\"gen_204\")+\"?atyp=i&ct=\"+a+\"&cad=\"+b+e+f+\"&zx=\"+google.time()+c;/^http:/i.test(a)&&google.https()&&(google.ml(Error(\"a\"),!1,{src:a,glmm:1}),a=\"\");return a};}).call(this);(function(){google.y={};google.x=function(a,b){if(a)var c=a.id;else{do c=Math.random();while(google.y[c])}google.y[c]=[a,b];return!1};google.lm=[];google.plm=function(a){google.lm.push.apply(google.lm,a)};google.lq=[];google.load=function(a,b,c){google.lq.push([[a],b,c])};google.loadAll=function(a,b){google.lq.push([a,b])};}).call(this);google.f={};var a=window.location,b=a.href.indexOf(\"#\");if(0<=b){var c=a.href.substring(b+1);/(^|&)q=/.test(c)&&-1==c.indexOf(\"#\")&&a.replace(\"/search?\"+c.replace(/(^|&)fp=[^&]*/g,\"\")+\"&cad=h\")};</script><style>#gbar,#guser{font-size:13px;padding-top:1px !important;}#gbar{height:22px}#guser{padding-bottom:7px !important;text-align:right}.gbh,.gbd{border-top:1px solid #c9d7f1;font-size:1px}.gbh{height:0;position:absolute;top:24px;width:100%}@media all{.gb1{height:22px;margin-right:.5em;vertical-align:top}#gbar{float:left}}a.gb1,a.gb4{text-decoration:underline !important}a.gb1,a.gb4{color:#00c !important}.gbi .gb4{color:#dd8e27 !important}.gbf .gb4{color:#900 !important}\\n</style><style>body,td,a,p,.h{font-family:arial,sans-serif}body{margin:0;overflow-y:scroll}#gog{padding:3px 8px 0}td{line-height:.8em}.gac_m td{line-height:17px}form{margin-bottom:20px}.h{color:#36c}.q{color:#00c}.ts td{padding:0}.ts{border-collapse:collapse}em{font-weight:bold;font-style:normal}.lst{height:25px;width:496px}.gsfi,.lst{font:18px arial,sans-serif}.gsfs{font:17px arial,sans-serif}.ds{display:inline-box;display:inline-block;margin:3px 0 4px;margin-left:4px}input{font-family:inherit}a.gb1,a.gb2,a.gb3,a.gb4{color:#11c !important}body{background:#fff;color:black}a{color:#11c;text-decoration:none}a:hover,a:active{text-decoration:underline}.fl a{color:#36c}a:visited{color:#551a8b}a.gb1,a.gb4{text-decoration:underline}a.gb3:hover{text-decoration:none}#ghead a.gb2:hover{color:#fff !important}.sblc{padding-top:5px}.sblc a{display:block;margin:2px 0;margin-left:13px;font-size:11px}.lsbb{background:#eee;border:solid 1px;border-color:#ccc #999 #999 #ccc;height:30px}.lsbb{display:block}.ftl,#fll a{display:inline-block;margin:0 12px}.lsb{background:url(/images/nav_logo229.png) 0 -261px repeat-x;border:none;color:#000;cursor:pointer;height:30px;margin:0;outline:0;font:15px arial,sans-serif;vertical-align:top}.lsb:active{background:#ccc}.lst:focus{outline:none}</style><script nonce=\"bzvjfXhkoi9dSryhfCITew==\"></script><link href=\"/images/branding/product/ico/googleg_lodp.ico\" rel=\"shortcut icon\"></head><body bgcolor=\"#fff\"><script nonce=\"bzvjfXhkoi9dSryhfCITew==\">(function(){var src=\\'/images/nav_logo229.png\\';var iesg=false;document.body.onload = function(){window.n && window.n();if (document.images){new Image().src=src;}\\nif (!iesg){document.f&&document.f.q.focus();document.gbqf&&document.gbqf.q.focus();}\\n}\\n})();</script><div id=\"mngb\"> <div id=gbar><nobr><b class=gb1>Search</b> <a class=gb1 href=\"https://www.google.co.in/imghp?hl=en&tab=wi\">Images</a> <a class=gb1 href=\"https://maps.google.co.in/maps?hl=en&tab=wl\">Maps</a> <a class=gb1 href=\"https://play.google.com/?hl=en&tab=w8\">Play</a> <a class=gb1 href=\"https://www.youtube.com/?gl=IN&tab=w1\">YouTube</a> <a class=gb1 href=\"https://news.google.co.in/nwshp?hl=en&tab=wn\">News</a> <a class=gb1 href=\"https://mail.google.com/mail/?tab=wm\">Gmail</a> <a class=gb1 href=\"https://drive.google.com/?tab=wo\">Drive</a> <a class=gb1 style=\"text-decoration:none\" href=\"https://www.google.co.in/intl/en/options/\"><u>More</u> &raquo;</a></nobr></div><div id=guser width=100%><nobr><span id=gbn class=gbi></span><span id=gbf class=gbf></span><span id=gbe></span><a href=\"http://www.google.co.in/history/optout?hl=en\" class=gb4>Web History</a> | <a  href=\"/preferences?hl=en\" class=gb4>Settings</a> | <a target=_top id=gb_70 href=\"https://accounts.google.com/ServiceLogin?hl=en&passive=true&continue=https://www.google.com/\" class=gb4>Sign in</a></nobr></div><div class=gbh style=left:0></div><div class=gbh style=right:0></div> </div><center><br clear=\"all\" id=\"lgpd\"><div id=\"lga\"><img alt=\"Google\" height=\"92\" src=\"/images/branding/googlelogo/1x/googlelogo_white_background_color_272x92dp.png\" style=\"padding:28px 0 14px\" width=\"272\" id=\"hplogo\" onload=\"window.lol&&lol()\"><br><br></div><form action=\"/search\" name=\"f\"><table cellpadding=\"0\" cellspacing=\"0\"><tr valign=\"top\"><td width=\"25%\">&nbsp;</td><td align=\"center\" nowrap=\"\"><input name=\"ie\" value=\"ISO-8859-1\" type=\"hidden\"><input value=\"en-IN\" name=\"hl\" type=\"hidden\"><input name=\"source\" type=\"hidden\" value=\"hp\"><input name=\"biw\" type=\"hidden\"><input name=\"bih\" type=\"hidden\"><div class=\"ds\" style=\"height:32px;margin:4px 0\"><input style=\"color:#000;margin:0;padding:5px 8px 0 6px;vertical-align:top\" autocomplete=\"off\" class=\"lst\" value=\"\" title=\"Google Search\" maxlength=\"2048\" name=\"q\" size=\"57\"></div><br style=\"line-height:0\"><span class=\"ds\"><span class=\"lsbb\"><input class=\"lsb\" value=\"Google Search\" name=\"btnG\" type=\"submit\"></span></span><span class=\"ds\"><span class=\"lsbb\"><input class=\"lsb\" value=\"I\\'m Feeling Lucky\" name=\"btnI\" onclick=\"if(this.form.q.value)this.checked=1; else top.location=\\'/doodles/\\'\" type=\"submit\"></span></span></td><td class=\"fl sblc\" align=\"left\" nowrap=\"\" width=\"25%\"><a href=\"/advanced_search?hl=en-IN&amp;authuser=0\">Advanced search</a><a href=\"/language_tools?hl=en-IN&amp;authuser=0\">Language tools</a></td></tr></table><input id=\"gbv\" name=\"gbv\" type=\"hidden\" value=\"1\"></form><div id=\"gac_scont\"></div><div style=\"font-size:83%;min-height:3.5em\"><br><div id=\"gws-output-pages-elements-homepage_additional_languages__als\"><style>#gws-output-pages-elements-homepage_additional_languages__als{font-size:small;margin-bottom:24px}#SIvCob{display:inline-block;line-height:28px;}#SIvCob a{padding:0 3px;}.H6sW5{display:inline-block;margin:0 2px;white-space:nowrap}.z4hgWe{display:inline-block;margin:0 2px}</style><div id=\"SIvCob\">Google offered in:  <a href=\"https://www.google.com/setprefs?sig=0_q6fWrWPpwk74SE-F7oawuWH_MJY%3D&amp;hl=hi&amp;source=homepage&amp;sa=X&amp;ved=0ahUKEwitj6LG5eHbAhUIq48KHdsrAxIQ2ZgBCAU\">&#2361;&#2367;&#2344;&#2381;&#2342;&#2368;</a>    <a href=\"https://www.google.com/setprefs?sig=0_q6fWrWPpwk74SE-F7oawuWH_MJY%3D&amp;hl=bn&amp;source=homepage&amp;sa=X&amp;ved=0ahUKEwitj6LG5eHbAhUIq48KHdsrAxIQ2ZgBCAY\">&#2476;&#2494;&#2434;&#2482;&#2494;</a>    <a href=\"https://www.google.com/setprefs?sig=0_q6fWrWPpwk74SE-F7oawuWH_MJY%3D&amp;hl=te&amp;source=homepage&amp;sa=X&amp;ved=0ahUKEwitj6LG5eHbAhUIq48KHdsrAxIQ2ZgBCAc\">&#3108;&#3142;&#3122;&#3137;&#3095;&#3137;</a>    <a href=\"https://www.google.com/setprefs?sig=0_q6fWrWPpwk74SE-F7oawuWH_MJY%3D&amp;hl=mr&amp;source=homepage&amp;sa=X&amp;ved=0ahUKEwitj6LG5eHbAhUIq48KHdsrAxIQ2ZgBCAg\">&#2350;&#2352;&#2366;&#2336;&#2368;</a>    <a href=\"https://www.google.com/setprefs?sig=0_q6fWrWPpwk74SE-F7oawuWH_MJY%3D&amp;hl=ta&amp;source=homepage&amp;sa=X&amp;ved=0ahUKEwitj6LG5eHbAhUIq48KHdsrAxIQ2ZgBCAk\">&#2980;&#2990;&#3007;&#2996;&#3021;</a>    <a href=\"https://www.google.com/setprefs?sig=0_q6fWrWPpwk74SE-F7oawuWH_MJY%3D&amp;hl=gu&amp;source=homepage&amp;sa=X&amp;ved=0ahUKEwitj6LG5eHbAhUIq48KHdsrAxIQ2ZgBCAo\">&#2711;&#2753;&#2716;&#2736;&#2750;&#2724;&#2752;</a>    <a href=\"https://www.google.com/setprefs?sig=0_q6fWrWPpwk74SE-F7oawuWH_MJY%3D&amp;hl=kn&amp;source=homepage&amp;sa=X&amp;ved=0ahUKEwitj6LG5eHbAhUIq48KHdsrAxIQ2ZgBCAs\">&#3221;&#3240;&#3277;&#3240;&#3233;</a>    <a href=\"https://www.google.com/setprefs?sig=0_q6fWrWPpwk74SE-F7oawuWH_MJY%3D&amp;hl=ml&amp;source=homepage&amp;sa=X&amp;ved=0ahUKEwitj6LG5eHbAhUIq48KHdsrAxIQ2ZgBCAw\">&#3374;&#3378;&#3375;&#3390;&#3379;&#3330;</a>    <a href=\"https://www.google.com/setprefs?sig=0_q6fWrWPpwk74SE-F7oawuWH_MJY%3D&amp;hl=pa&amp;source=homepage&amp;sa=X&amp;ved=0ahUKEwitj6LG5eHbAhUIq48KHdsrAxIQ2ZgBCA0\">&#2602;&#2672;&#2588;&#2622;&#2604;&#2624;</a>  </div></div></div><span id=\"footer\"><div style=\"font-size:10pt\"><div style=\"margin:19px auto;text-align:center\" id=\"fll\"><a href=\"/intl/en/ads/\">Advertising\\xa0Programs</a><a href=\"http://www.google.co.in/services/\">Business Solutions</a><a href=\"https://plus.google.com/104205742743787718296\" rel=\"publisher\">+Google</a><a href=\"/intl/en/about.html\">About Google</a><a href=\"https://www.google.com/setprefdomain?prefdom=IN&amp;prev=https://www.google.co.in/&amp;sig=__GyDfykhuHUzTwgjGgWeyreijGXc%3D\">Google.co.in</a></div></div><p style=\"color:#767676;font-size:8pt\">&copy; 2018 - <a href=\"/intl/en/policies/privacy/\">Privacy</a> - <a href=\"/intl/en/policies/terms/\">Terms</a></p></span></center><script nonce=\"bzvjfXhkoi9dSryhfCITew==\">(function(){window.google.cdo={height:0,width:0};(function(){var a=window.innerWidth,b=window.innerHeight;if(!a||!b){var c=window.document,d=\"CSS1Compat\"==c.compatMode?c.documentElement:c.body;a=d.clientWidth;b=d.clientHeight}a&&b&&(a!=google.cdo.width||b!=google.cdo.height)&&google.log(\"\",\"\",\"/client_204?&atyp=i&biw=\"+a+\"&bih=\"+b+\"&ei=\"+google.kEI);}).call(this);})();</script><div id=\"xjsd\"></div><div id=\"xjsi\"><script nonce=\"bzvjfXhkoi9dSryhfCITew==\">(function(){function c(b){window.setTimeout(function(){var a=document.createElement(\"script\");a.src=b;google.timers&&google.timers.load.t&&google.tick&&google.tick(\"load\",{gen204:\"xjsls\",clearcut:31});document.getElementById(\"xjsd\").appendChild(a)},0)}google.dljp=function(b,a){google.xjsu=b;c(a)};google.dlj=c;}).call(this);if(!google.xjs){window._=window._||{};window._DumpException=window._._DumpException=function(e){throw e};window._F_installCss=window._._F_installCss=function(c){};google.dljp(\\'/xjs/_/js/k\\\\x3dxjs.hp.en.7B4-1K-M4wE.O/m\\\\x3dsb_he,d/am\\\\x3dVGFs/rt\\\\x3dj/d\\\\x3d1/rs\\\\x3dACT90oFRPvCTO-IirsVIWg6x5lfHgc1l3w\\',\\'/xjs/_/js/k\\\\x3dxjs.hp.en.7B4-1K-M4wE.O/m\\\\x3dsb_he,d/am\\\\x3dVGFs/rt\\\\x3dj/d\\\\x3d1/rs\\\\x3dACT90oFRPvCTO-IirsVIWg6x5lfHgc1l3w\\');google.xjs=1;}google.pmc={\"sb_he\":{\"agen\":true,\"cgen\":true,\"client\":\"heirloom-hp\",\"dh\":true,\"dhqt\":true,\"ds\":\"\",\"ffql\":\"en\",\"fl\":true,\"host\":\"google.com\",\"isbh\":28,\"jsonp\":true,\"msgs\":{\"cibl\":\"Clear Search\",\"dym\":\"Did you mean:\",\"lcky\":\"I\\\\u0026#39;m Feeling Lucky\",\"lml\":\"Learn more\",\"oskt\":\"Input tools\",\"psrc\":\"This search was removed from your \\\\u003Ca href=\\\\\"/history\\\\\"\\\\u003EWeb History\\\\u003C/a\\\\u003E\",\"psrl\":\"Remove\",\"sbit\":\"Search by image\",\"srch\":\"Google Search\"},\"nds\":true,\"ovr\":{},\"pq\":\"\",\"refpd\":true,\"rfs\":[],\"sbpl\":24,\"sbpr\":24,\"scd\":10,\"sce\":5,\"stok\":\"zrke7H1c6ftuUG_veF1sMowykVk\"},\"d\":{},\"ZI/YVQ\":{},\"Qnk92g\":{},\"U5B21g\":{},\"DPBNMg\":{},\"YFCs/g\":{}};google.x(null,function(){});(function(){var r=[];google.plm(r);})();(function(){var m=[]\\n;google.jsc && google.jsc.m(m);})();</script></div></body></html>'"
      ]
     },
     "execution_count": 161,
     "metadata": {},
     "output_type": "execute_result"
    }
   ],
   "source": [
    "import urllib\n",
    "response=urllib.urlopen(\"https://google.com\")\n",
    "response.read()"
   ]
  },
  {
   "cell_type": "code",
   "execution_count": 164,
   "metadata": {
    "collapsed": true
   },
   "outputs": [],
   "source": [
    "#python3\n",
    "#r=urllib.request.urlopen(\"https://google.com\")\n",
    "#r.read()"
   ]
  },
  {
   "cell_type": "code",
   "execution_count": 167,
   "metadata": {
    "collapsed": true
   },
   "outputs": [],
   "source": [
    "#https://ipinfo.io\n",
    "#curl \"https://ipinfo.io/8.8.8.8?token=5edcbdd987104f\"    (((((((in command prompt)))))))\n",
    "#curl \"https://ipinfo.io/8.8.8.8/geo?token=5edcbdd987104f\"    ((((((in url))))))\n",
    "#https://www.whatismyip.com/"
   ]
  },
  {
   "cell_type": "code",
   "execution_count": 170,
   "metadata": {},
   "outputs": [
    {
     "data": {
      "text/plain": [
       "'{\\n  \"ip\": \"8.8.8.8\",\\n  \"city\": \"Mountain View\",\\n  \"region\": \"California\",\\n  \"country\": \"US\",\\n  \"loc\": \"37.3860,-122.0840\",\\n  \"postal\": \"94035\",\\n  \"phone\": \"650\"\\n}'"
      ]
     },
     "execution_count": 170,
     "metadata": {},
     "output_type": "execute_result"
    }
   ],
   "source": [
    "r=urllib.urlopen(\"https://ipinfo.io/8.8.8.8/geo?token=5edcbdd987104f\")\n",
    "r.read()\n",
    "#it is json format"
   ]
  },
  {
   "cell_type": "code",
   "execution_count": 171,
   "metadata": {},
   "outputs": [
    {
     "data": {
      "text/plain": [
       "'\\n\\n<!DOCTYPE html>\\n<html>\\n\\n<head>\\n    <title>8.8.8.8 IP Address Details - ipinfo.io</title>\\n    <meta charset=\"utf-8\">\\n    <meta name=\"apple-itunes-app\" content=\"app-id=917634022\">\\n    <meta name=\"viewport\" content=\"width=device-width, initial-scale=1, shrink-to-fit=no, user-scalable=no\">\\n    <meta name=\"description\" content=\"Full IP address details for 8.8.8.8 (AS15169 Google LLC) including geolocation and map, hostname, and API details.\">\\n\\n    <link rel=\"manifest\" href=\"/static/manifest.json\">\\n\\n    <link href=\"/static/favicon.ico?v2\" rel=\"shortcut icon\" type=\"image/x-icon\">\\n    <link href=\"/static/favicon.ico?v2\" rel=\"icon\" type=\"image/x-icon\">\\n\\n    <link href=\"https://fonts.googleapis.com/css?family=Open+Sans:300,400,600|Montserrat:300,400,600|Droid+Sans+Mono\" rel=\"stylesheet\">\\n    <link href=\\'https://cdnjs.cloudflare.com/ajax/libs/normalize/3.0.3/normalize.min.css\\' rel=\\'stylesheet\\' type=\\'text/css\\'>\\n    <link href=\\'/static/flags.css\\' rel=\\'stylesheet\\' type=\\'text/css\\'>\\n    <link href=\\'/static/banner.css\\' rel=\\'stylesheet\\' type=\\'text/css\\'>\\n\\n    <link href=\\'/static/layout-styles.css\\' rel=\\'stylesheet\\' type=\\'text/css\\'>\\n\\n    <script src=\"https://cdnjs.cloudflare.com/ajax/libs/jquery/3.2.1/jquery.min.js\"></script>\\n    <script src=\"/static/dist/index.js\"></script>\\n\\n    \\n    <link href=\\'/static/css/developers.css\\' rel=\\'stylesheet\\' />\\n\\n    <link rel=\"stylesheet\" href=\"/static/css/bootstrap.min.css\">\\n    <link href=\\'/static/dist/index.css\\' rel=\\'stylesheet\\' type=\\'text/css\\'>\\n    <link rel=\"stylesheet\" href=\"/static/dist/style_new.css\">\\n</head>\\n\\n<body class=\"main \">\\n    \\n\\n    <header class=\"inner-page  \">\\n\\n        <nav class=\"navbar navbar-expand-md pt-lg-4\">\\n            <div class=\"container\">\\n                <a class=\"navbar-brand\" href=\"/\"></a>\\n                \\n                <a class=\"btn btn-outline-light my-2 my-sm-0 hidden-md-up\" href=\"/signup\">Sign up</a>\\n                \\n\\n                \\n                <button class=\"navbar-toggler\" type=\"button\">\\n                    <svg class=\"open-btn\" xmlns=\"http://www.w3.org/2000/svg\" viewBox=\"0 0 30 30\" width=\"30\" height=\"30\" focusable=\"false\"><title>Menu</title><path stroke=\"#fff\" stroke-width=\"2\" stroke-linecap=\"round\" stroke-miterlimit=\"10\" d=\"M4 7h28M4 15h28M4 23h28\"></path></svg>\\n                </button>\\n                \\n\\n                <div class=\"collapse navbar-collapse\" id=\"navbarSupportedContent\">\\n                    <ul class=\"navbar-nav ml-auto mr-md-2\">\\n                        <li class=\"nav-item\"><a class=\"nav-link\" href=\"/pricing\">Pricing</a></li>\\n                        <li class=\"nav-item\"><a class=\"nav-link\" href=\"/developers\">Documentation</a></li>\\n                    </ul>\\n                    <div class=\"right-buttons\">\\n                        \\n                        <a class=\"btn btn-outline-white btn-header my-2 my-sm-0 mr-2 font-medium\" href=\"/account/login\">Login</a>\\n                        <a class=\"btn btn-light btn-header my-2 my-sm-0 font-medium\" href=\"/signup\">Sign up</a>\\n                        \\n                    </div>\\n                </div>\\n\\n                \\n            </div>\\n        </nav>\\n\\n        \\n        <div id=\"myNav\" class=\"overlay\">\\n            <!-- Button to close the overlay navigation -->\\n            <a href=\"javascript:void(0)\" class=\"closebtn\"><img src=\"/static/images/cross.svg\"></a>\\n\\n            <!-- Overlay content -->\\n            <div class=\"container\">\\n                <a class=\"navbar-brand\" href=\"#\"><img src=\"/static/images/logo-white.svg\"></a>\\n                <div class=\"\" id=\"navbarSupportedContent\">\\n                    <div class=\"hidden-md-up\">\\n                        \\n                        <a class=\"mb-link btn btn-outline-light\" href=\"/account/login\">Login</a>\\n                        <a class=\"mb-link btn btn-blueGradient\" href=\"/signup\">Sign up</a>\\n                        \\n                    </div>\\n\\n                    <ul class=\"navbar-nav mr-auto\">\\n                        <li class=\"nav-item\">\\n                            <a class=\"nav-link\" href=\"/pricing\">Pricing</a>\\n                        </li>\\n                        <li class=\"nav-item\">\\n                            <a class=\"nav-link\" href=\"/developers\">Developers</a>\\n                        </li>\\n                        <li class=\"nav-item\"><a class=\"nav-link\" href=\"/enterprise\">Enterprise</a></li>\\n\\n                        <li class=\"nav-item\">\\n                            <a class=\"twitter-link nav-link\" href=\"https://twitter.com/ipinfoio\"><img style=\"width: 30px;\" src=\"/static/dist/images/header/icon_twitter.svg\"></a>\\n                        </li>\\n                    </ul>\\n                </div>\\n            </div>\\n        </div>\\n        \\n\\n        \\n        <section class=\"inner-header-content text-center \">\\n            <div class=\"container\">\\n                \\n                <div class=\"row justify-content-md-center\">\\n                    <div class=\"col-12 col-md-8 \">\\n                        <h4 class=\"font-medium op-6 t-20\"></h4>\\n                        <h1 class=\"font-semibold t-xs-24\">\\n  8.8.8.8\\n</h1>\\n                        <span class=\"font-medium op-6 t-16 header_label\"></span>\\n                    </div>\\n                </div>\\n                \\n\\n                \\n            </div>\\n        </section>\\n        \\n\\n\\n    </header>\\n\\n    <div id=\"content\">\\n        \\n<div class=\"old-page\">\\n    <section class=\"centered-container side-padding\">\\n      \\n        <p id = \"google-map-holder\">\\n            <img class=\"map\" src=\"https://maps.googleapis.com/maps/api/staticmap?center=37.3860,-122.0840&zoom=9&size=640x200&sensor=false\" alt=\"Mountain View, California, United States Map\" title=\"Mountain View, California, United States Map\"/>\\n        </p>\\n      \\n\\n      \\n\\n\\n      <table class=\"table table-striped\">\\n        \\n        \\n\\n        \\n          <tr>\\n            <td>Hostname</td>\\n            <td>google-public-dns-a.google.com</td>\\n          </tr>\\n        \\n\\n        \\n          <tr>\\n            <td>Network</td>\\n            <td><a href=\"/AS15169\">AS15169</a> Google LLC</td>\\n          </tr>\\n        \\n\\n        \\n          <tr>\\n            <td>City</td>\\n            <td>\\n              <a class=\"flag flag-us\" href=\"/countries/us\"></a>\\n              Mountain View, California, United States\\n            </td>\\n          </tr>\\n        \\n\\n        \\n          <tr>\\n            <td>Latitude/Longitude</td>\\n            <td data-loc=\"37.3860,-122.0840\">37.3860,-122.0840</td>\\n          </tr>\\n        \\n\\n        \\n          <tr>\\n            <td>Area Code</td>\\n            <td>650</td>\\n          </tr>\\n        \\n\\n        \\n          <tr>\\n            <td>Postal Code</td>\\n            <td>94035</td>\\n          </tr>\\n        \\n\\n        \\n        \\n          <tr>\\n            <td>Route</td>\\n            <td><a href=\"/AS15169/8.8.8.0/24\">8.8.8.0/24</a></td>\\n          </tr>\\n        \\n      </table>\\n\\n      \\n\\n      \\n      <h2 id=\"domains\">Hosted Domain Names</h2>\\n      <p>There are 5,347 domain names hosted on this IP address. You can see 25 below. To access full domain hosting information with our API <a href=\"/contact/sales?subject=hosting+data\">contact us</a> for more details.</p>\\n\\n      <table class=\"table table-striped\" id=\"block-table\">\\n        <tr>\\n          <th>Domain</th>\\n        </tr>\\n        \\n        <tr>\\n          <td>hdmoviz.net</td>\\n        </tr>\\n        \\n        <tr>\\n          <td>bot.nu</td>\\n        </tr>\\n        \\n        <tr>\\n          <td>changshifang.com</td>\\n        </tr>\\n        \\n        <tr>\\n          <td>pleer.net</td>\\n        </tr>\\n        \\n        <tr>\\n          <td>41.cn</td>\\n        </tr>\\n        \\n        <tr>\\n          <td>peepla.com</td>\\n        </tr>\\n        \\n        <tr>\\n          <td>bestscooteroutlite.com</td>\\n        </tr>\\n        \\n        <tr>\\n          <td>hcdj.com</td>\\n        </tr>\\n        \\n        <tr>\\n          <td>royalcactus.com</td>\\n        </tr>\\n        \\n        <tr>\\n          <td>pmcdn.info</td>\\n        </tr>\\n        \\n        <tr>\\n          <td>xn--cfa.xyz</td>\\n        </tr>\\n        \\n        <tr>\\n          <td>d5yuansu.com</td>\\n        </tr>\\n        \\n        <tr>\\n          <td>mtqnia.com</td>\\n        </tr>\\n        \\n        <tr>\\n          <td>zjustemcell.com</td>\\n        </tr>\\n        \\n        <tr>\\n          <td>mwmstore.com</td>\\n        </tr>\\n        \\n        <tr>\\n          <td>apartmanyar.ir</td>\\n        </tr>\\n        \\n        <tr>\\n          <td>microsoft-office-com-setup.com</td>\\n        </tr>\\n        \\n        <tr>\\n          <td>pj00nn.com</td>\\n        </tr>\\n        \\n        <tr>\\n          <td>ee33js.com</td>\\n        </tr>\\n        \\n        <tr>\\n          <td>agvip111.com</td>\\n        </tr>\\n        \\n        <tr>\\n          <td>ag9518.com</td>\\n        </tr>\\n        \\n        <tr>\\n          <td>vns55dd.com</td>\\n        </tr>\\n        \\n        <tr>\\n          <td>sincere-xbc.com</td>\\n        </tr>\\n        \\n        <tr>\\n          <td>globalspeakersforum.com</td>\\n        </tr>\\n        \\n        <tr>\\n          <td>wbbfederation.com</td>\\n        </tr>\\n        \\n      </table>\\n      \\n\\n      \\n      <h2>Network Speed</h2>\\n      <table class=\"table table-striped\" style=\"text-align: center;\" id=\"block-table\">\\n        <tr>\\n          <th style=\"width: 33%;\">Download Speed</th>\\n          <th style=\"width:34%;\">Upload Speed</th>\\n          <th style=\"width: 33%;\">Ping</th>\\n        </tr>\\n        <tr>\\n            <td>92.11 Mbps</td>\\n            <td>98.98 Mbps</td>\\n            <td>37.18 ms</td>\\n        </tr>\\n        </table>\\n        <p>The average network speed for <b>Google LLC</b> in <b>Mountain View</b> is shown above. See how your own network speed compares at <a rel=\"nofollow\" href=\"/speedtest\">speedsmart.net</a>.</p>\\n      \\n\\n      \\n\\n      <script async src=\"https://ipiort.robtex.com/ipiort.js\" data-ipioquery=\"8.8.8.8\"></script>\\n\\n      <p>Find out more about 8.8.8.8 at <a href=\"https://www.robtex.com/ip-lookup/8.8.8.8\">robtex</a>.</p>\\n\\n      \\n\\n        <div style=\"margin-bottom: 20px\">\\n        <script async src=\"//pagead2.googlesyndication.com/pagead/js/adsbygoogle.js\"></script>\\n        <!-- ipinfo -->\\n        <ins class=\"adsbygoogle\"\\n             style=\"display:block\"\\n             data-ad-client=\"ca-pub-4731632508128993\"\\n             data-ad-slot=\"1110705577\"\\n             data-ad-format=\"auto\"></ins>\\n        <script>\\n        (adsbygoogle = window.adsbygoogle || []).push({});\\n        </script>\\n    </div>\\n\\n    </section>\\n</div>\\n<div id = \"banner-section\">\\n  <div id = \"feature-centered\">\\n    <div class = \"feature\">\\n      <div class = \"banner-item-header varying-height-header\">Try our JSON API from the command line.</div>\\n      <div class = \"reliability-description\">Get started with <code>curl ipinfo.io</code> or see our <a href=\"/developers\">developer documentation</a> for more details.</div>\\n    </div>\\n\\n    <div class = \"feature\">\\n      <div class = \"banner-item-header varying-height-header\">Free for small projects. Pay as you grow.</div>\\n      <div class = \"reliability-description\">Our API is free for up to 1,000 requests per day. See our <a href=\"/pricing\">pricing</a> details if you need more.</div>\\n    </div>\\n\\n    <div class = \"feature\">\\n      <div class = \"banner-item-header varying-height-header\">A million uses.</div>\\n      <div class = \"reliability-description\">You can use ipinfo to\\n          <a href=\"/developers/filtering-out-bot-traffic\">filter out bot traffic</a>,\\n          <a href=\"/developers/customize-content-based-on-country\">customize content based on visitor\\'s location</a>,\\n          <a href=\"/developers/full-country-name\">display full country names</a>,\\n          <a href=\"/developers/bulk-lookup\">perform bulk IP geolocation</a>, and more.</div>\\n    </div>\\n  </div>\\n</div>\\n\\n\\n    </div>\\n\\n\\n    <footer class=\"footer\">\\n        <div class=\"container\">\\n            <div class=\"row\">\\n                <div class=\"col-md-3 col-sm-12\">\\n                    <div class=\"footer-logo\">\\n                        <a href=\"#\"></a>\\n                    </div>\\n                </div>\\n                <div class=\"col-md-9 links-block\">\\n                    <div class=\"row\">\\n                        <div class=\"col-md-3 col-6\">\\n                            <ul class=\"unstyled\">\\n                                <li>Product</li>\\n                                <li><a href=\"/developers\">API Documentation</a></li>\\n                                <li><a href=\"/data\">Data</a></li>\\n                                <li><a href=\"/pricing\">Pricing</a></li>\\n                                <li><a href=\"/signup\">Signup</a></li>\\n                            </ul>\\n                        </div>\\n                        <div class=\"col-md-3 col-6\">\\n                            <ul class=\"unstyled\">\\n                                <li>Resources</li>\\n                                <li><a href=\"https://blog.ipinfo.io\">Blog</a></li>\\n                                <li><a href=\"/countries\">Global ASNs</a></li>\\n                                <li><a href=\"/hosting\">Hosted Domains</a></li>\\n                                <li><a href=\"/ips\">Browse IPs</a></li>\\n                            </ul>\\n                        </div>\\n                        <div class=\"col-md-3 col-6\">\\n                            <ul class=\"unstyled\">\\n                                <li>Company</li>\\n                                <li><a href=\"/about\">About</a></li>\\n                                <li><a href=\"/jobs\">Jobs</a></li>\\n                                <li><a href=\"/contact\">Contact</a></li>\\n                            </ul>\\n                        </div>\\n                        <div class=\"col-md-3 col-6\">\\n                            <ul class=\"unstyled\">\\n                                <li>Information</li>\\n                                <li><a href=\"/faq\">FAQs</a></li>\\n                                <li><a href=\"/terms-of-service\">Terms</a></li>\\n                                <li><a href=\"/privacy-policy\">Privacy</a></li>\\n\\n                            </ul>\\n                        </div>\\n                    </div>\\n                </div>\\n            </div>\\n        </div>\\n        <div class=\"sub-footer\">\\n            <div class=\"container clearfix\">\\n                <div class=\"float-left\">\\n                    <p>Copyright &copy; 2018 IPInfo</p>\\n                </div>\\n                <div class=\"float-right right-subfooter\">\\n                    <ul class=\"social-links\">\\n                        <li><a href=\"https://twitter.com/ipinfoio\"><i class=\"icon-tw\"></i></a></li>\\n                        <li><a href=\"https://www.facebook.com/ipinfoio\"><i class=\"icon-fb\"></i></a></li>\\n                    </ul>\\n                </div>\\n            </div>\\n        </div>\\n    </footer>\\n\\n    <script src=\"/static/js/bootstrap.4.0.0.min.js\"></script>\\n    <script src=\"/static/js/functions.js\"></script>\\n\\n    <script type=\"text/javascript\">\\n        (function(i, s, o, g, r, a, m) {\\n            i[\\'GoogleAnalyticsObject\\'] = r;\\n            i[r] = i[r] || function() {\\n                (i[r].q = i[r].q || []).push(arguments)\\n            }, i[r].l = 1 * new Date();\\n            a = s.createElement(o),\\n                m = s.getElementsByTagName(o)[0];\\n            a.async = 1;\\n            a.src = g;\\n            m.parentNode.insertBefore(a, m)\\n        })(window, document, \\'script\\', \\'//www.google-analytics.com/analytics.js\\', \\'ga\\');\\n        ga(\\'create\\', \\'UA-2336519-21\\', \\'ipinfo.io\\');\\n        ga(\\'send\\', \\'pageview\\');\\n    </script>\\n     \\n    <script>\\n      $( \"form\" ).on(\\'submit\\', function (event) {\\n        var button = $(this).find(\\':button\\');\\n        if(button){\\n          button.prop(\"disabled\", true);\\n          setTimeout(function(){\\n            button.prop(\"disabled\", false);\\n          }, 1000);\\n        }\\n        return true\\n      });\\n      $(\\'.header__menu-button\\').on(\\'click\\', function () {\\n        if ($(\\'.main\\').hasClass(\\'main_is-menu-shown\\')) {\\n          $(\\'.main\\').removeClass(\\'main_is-menu-shown\\')\\n        }\\n        else {\\n          $(\\'.main\\').addClass(\\'main_is-menu-shown\\')\\n        }\\n      })\\n    </script>\\n    <script type=\"text/javascript\" id=\"hs-script-loader\" async defer src=\"//js.hs-scripts.com/4390633.js\"></script>\\n    \\n    <script type=\"text/javascript\">\\n      (function() {\\n        window._pa = window._pa || {};\\n        // _pa.orderId = \"myOrderId\"; // OPTIONAL: attach unique conversion identifier to conversions\\n        // _pa.revenue = \"19.99\"; // OPTIONAL: attach dynamic purchase values to conversions\\n        // _pa.productId = \"myProductId\"; // OPTIONAL: Include product ID for use with dynamic ads\\n        var pa = document.createElement(\\'script\\'); pa.type = \\'text/javascript\\'; pa.async = true;\\n        pa.src = (\\'https:\\' == document.location.protocol ? \\'https:\\' : \\'http:\\') + \"//tag.marinsm.com/serve/561152017c2d2e055400003d.js\";\\n        var s = document.getElementsByTagName(\\'script\\')[0]; s.parentNode.insertBefore(pa, s);\\n      })();\\n    </script>\\n<script>\\nwindow[\\'_fs_debug\\'] = false;\\nwindow[\\'_fs_host\\'] = \\'fullstory.com\\';\\nwindow[\\'_fs_org\\'] = \\'CN8PB\\';\\nwindow[\\'_fs_namespace\\'] = \\'FS\\';\\n(function(m,n,e,t,l,o,g,y){\\n    if (e in m) {if(m.console && m.console.log) { m.console.log(\\'FullStory namespace conflict. Please set window[\"_fs_namespace\"].\\');} return;}\\n    g=m[e]=function(a,b){g.q?g.q.push([a,b]):g._api(a,b);};g.q=[];\\n    o=n.createElement(t);o.async=1;o.src=\\'https://\\'+_fs_host+\\'/s/fs.js\\';\\n    y=n.getElementsByTagName(t)[0];y.parentNode.insertBefore(o,y);\\n    g.identify=function(i,v){g(l,{uid:i});if(v)g(l,v)};g.setUserVars=function(v){g(l,v)};\\n    g.shutdown=function(){g(\"rec\",!1)};g.restart=function(){g(\"rec\",!0)};\\n    g.consent=function(a){g(\"consent\",!arguments.length||a)};\\n    g.identifyAccount=function(i,v){o=\\'account\\';v=v||{};v.acctId=i;g(o,v)};\\n    g.clearUserCookie=function(){};\\n})(window,document,window[\\'_fs_namespace\\'],\\'script\\',\\'user\\');\\n</script>\\n\\n</body>\\n\\n</html>\\n'"
      ]
     },
     "execution_count": 171,
     "metadata": {},
     "output_type": "execute_result"
    }
   ],
   "source": [
    "re=urllib.urlopen(\"https://ipinfo.io/8.8.8.8?token=5edcbdd987104f\")\n",
    "re.read()\n",
    "#it is html format"
   ]
  },
  {
   "cell_type": "code",
   "execution_count": 172,
   "metadata": {
    "collapsed": true
   },
   "outputs": [],
   "source": [
    "import json"
   ]
  },
  {
   "cell_type": "code",
   "execution_count": 173,
   "metadata": {},
   "outputs": [
    {
     "data": {
      "text/plain": [
       "{u'k1': u'k2'}"
      ]
     },
     "execution_count": 173,
     "metadata": {},
     "output_type": "execute_result"
    }
   ],
   "source": [
    "json.loads('{\"k1\":\"k2\"}')"
   ]
  },
  {
   "cell_type": "code",
   "execution_count": 179,
   "metadata": {},
   "outputs": [
    {
     "data": {
      "text/plain": [
       "u'k2'"
      ]
     },
     "execution_count": 179,
     "metadata": {},
     "output_type": "execute_result"
    }
   ],
   "source": [
    "d=json.loads('{\"k1\":\"k2\"}')\n",
    "d[\"k1\"]"
   ]
  },
  {
   "cell_type": "code",
   "execution_count": 184,
   "metadata": {
    "collapsed": true
   },
   "outputs": [],
   "source": [
    "#convert text into json format\n",
    "r=urllib.urlopen(\"https://ipinfo.io/8.8.8.8/geo?token=5edcbdd987104f\")\n",
    "di=json.loads(r.read())"
   ]
  },
  {
   "cell_type": "code",
   "execution_count": 185,
   "metadata": {},
   "outputs": [
    {
     "data": {
      "text/plain": [
       "u'8.8.8.8'"
      ]
     },
     "execution_count": 185,
     "metadata": {},
     "output_type": "execute_result"
    }
   ],
   "source": [
    "di[\"ip\"]"
   ]
  },
  {
   "cell_type": "code",
   "execution_count": 191,
   "metadata": {
    "collapsed": true
   },
   "outputs": [],
   "source": [
    "res=urllib.urlopen(\"https://data.gov.in/node/104139/datastore/export/json\")\n",
    "d=json.loads(res.read())"
   ]
  },
  {
   "cell_type": "code",
   "execution_count": 196,
   "metadata": {},
   "outputs": [
    {
     "name": "stdout",
     "output_type": "stream",
     "text": [
      "{u'fields': [{u'type': u'string', u'id': u'a', u'label': u'State'}, {u'type': u'string', u'id': u'b', u'label': u'Professor and Equivalent - Male'}, {u'type': u'string', u'id': u'c', u'label': u'Professor and Equivalent - Female'}, {u'type': u'string', u'id': u'd', u'label': u'Professor and Equivalent - Total'}, {u'type': u'string', u'id': u'e', u'label': u'Reader and Associate Professor - Male'}, {u'type': u'string', u'id': u'f', u'label': u'Reader and Associate Professor - Female'}, {u'type': u'string', u'id': u'g', u'label': u'Reader and Associate Professor - Total'}, {u'type': u'string', u'id': u'h', u'label': u'Lecturer/ Assistant Professor - Male'}, {u'type': u'string', u'id': u'i', u'label': u'Lecturer/ Assistant Professor - Female'}, {u'type': u'string', u'id': u'j', u'label': u'Lecturer/ Assistant Professor - Total'}, {u'type': u'string', u'id': u'k', u'label': u'Demonstrator/ Tutor - Male'}, {u'type': u'string', u'id': u'l', u'label': u'Demonstrator/ Tutor - Female'}, {u'type': u'string', u'id': u'm', u'label': u'Demonstrator/ Tutor - Total'}, {u'type': u'string', u'id': u'n', u'label': u'Temporary Teacher etc - Male'}, {u'type': u'string', u'id': u'o', u'label': u'Temporary Teacher etc - Female'}, {u'type': u'string', u'id': u'p', u'label': u'Temporary Teacher etc - Total'}, {u'type': u'string', u'id': u'q', u'label': u'Grand Total - Male'}, {u'type': u'string', u'id': u'r', u'label': u'Grand Total - Female'}, {u'type': u'string', u'id': u's', u'label': u'Grand Total - Total'}], u'data': [[u'Andaman and Nicobar Islands', u'5', u'0', u'5', u'32', u'2', u'34', u'47', u'28', u'75', u'5', u'1', u'6', u'15', u'21', u'36', u'104', u'52', u'156'], [u'Andhra Pradesh', u'12297', u'3960', u'16257', u'11862', u'4566', u'16428', u'62414', u'35589', u'98003', u'1001', u'3779', u'4780', u'4638', u'3014', u'7652', u'92212', u'50908', u'143120'], [u'Arunachal Pradesh', u'215', u'34', u'249', u'282', u'38', u'320', u'1128', u'251', u'1379', u'0', u'0', u'0', u'6', u'14', u'20', u'1631', u'337', u'1968'], [u'Assam', u'672', u'164', u'836', u'1555', u'822', u'2377', u'3078', u'1785', u'4863', u'223', u'278', u'501', u'386', u'290', u'676', u'5914', u'3339', u'9253'], [u'Bihar', u'2162', u'320', u'2482', u'4040', u'634', u'4674', u'12433', u'2403', u'14836', u'808', u'192', u'1000', u'1736', u'372', u'2108', u'21179', u'3921', u'25100'], [u'Chandigarh', u'126', u'74', u'200', u'209', u'261', u'470', u'344', u'494', u'838', u'3', u'5', u'8', u'65', u'134', u'199', u'747', u'968', u'1715'], [u'Chhatisgarh', u'718', u'239', u'957', u'913', u'449', u'1362', u'4609', u'3308', u'7917', u'142', u'160', u'302', u'869', u'753', u'1622', u'7251', u'4909', u'12160'], [u'Dadra and Nagar Haveli', u'1', u'2', u'3', u'0', u'0', u'0', u'26', u'9', u'35', u'1', u'5', u'6', u'0', u'0', u'0', u'28', u'16', u'44'], [u'Daman and Diu', u'3', u'1', u'4', u'13', u'4', u'17', u'18', u'8', u'26', u'0', u'0', u'0', u'83', u'24', u'107', u'117', u'37', u'154'], [u'Delhi', u'1490', u'552', u'2042', u'1965', u'2087', u'4052', u'3053', u'3671', u'6724', u'164', u'460', u'624', u'439', u'499', u'938', u'7111', u'7269', u'14380'], [u'Goa', u'106', u'35', u'141', u'252', u'203', u'455', u'342', u'447', u'789', u'37', u'43', u'80', u'153', u'319', u'472', u'890', u'1047', u'1937'], [u'Gujarat', u'3273', u'1292', u'4565', u'4611', u'1953', u'6564', u'18321', u'10346', u'28667', u'1186', u'1093', u'2279', u'3521', u'1895', u'5416', u'30912', u'16579', u'47491'], [u'Haryana', u'1605', u'433', u'2038', u'1099', u'767', u'1866', u'6914', u'4451', u'11365', u'480', u'272', u'752', u'520', u'875', u'1395', u'10618', u'6798', u'17416'], [u'Himachal Pradesh', u'737', u'267', u'1004', u'676', u'265', u'941', u'2598', u'1947', u'4545', u'84', u'112', u'196', u'435', u'301', u'736', u'4530', u'2892', u'7422'], [u'Jammu and Kashmir', u'306', u'205', u'511', u'469', u'218', u'687', u'1309', u'1520', u'2829', u'63', u'51', u'114', u'653', u'508', u'1161', u'2800', u'2502', u'5302'], [u'Jharkhand', u'241', u'21', u'262', u'394', u'112', u'506', u'1277', u'548', u'1825', u'16', u'4', u'20', u'150', u'240', u'390', u'2078', u'925', u'3003'], [u'Karnataka', u'13148', u'5687', u'18835', u'9807', u'4424', u'14231', u'36968', u'27531', u'64499', u'4545', u'7299', u'11844', u'6686', u'4842', u'11528', u'71154', u'49783', u'120937'], [u'Kerala', u'1743', u'1484', u'3227', u'2905', u'2293', u'5198', u'7004', u'8977', u'15981', u'613', u'1933', u'2546', u'953', u'1958', u'2911', u'13218', u'16645', u'29863'], [u'Lakshadweep', u'0', u'0', u'0', u'0', u'0', u'0', u'0', u'0', u'0', u'0', u'0', u'0', u'0', u'0', u'0', u'0', u'0', u'0'], [u'Madhya Pradesh', u'1403', u'704', u'2107', u'531', u'242', u'773', u'3916', u'2503', u'6419', u'280', u'437', u'717', u'564', u'331', u'895', u'6694', u'4217', u'10911'], [u'Maharashtra', u'7059', u'2318', u'9377', u'9320', u'3202', u'12522', u'33293', u'19475', u'52768', u'1526', u'1329', u'2855', u'5442', u'3951', u'9393', u'56640', u'30275', u'86915'], [u'Manipur', u'125', u'33', u'158', u'307', u'155', u'462', u'506', u'339', u'845', u'53', u'33', u'86', u'66', u'100', u'166', u'1057', u'660', u'1717'], [u'Meghalaya', u'66', u'43', u'109', u'125', u'96', u'221', u'543', u'709', u'1252', u'5', u'63', u'68', u'46', u'58', u'104', u'785', u'969', u'1754'], [u'Mizoram', u'50', u'12', u'62', u'287', u'141', u'428', u'312', u'255', u'567', u'7', u'48', u'55', u'88', u'85', u'173', u'744', u'541', u'1285'], [u'Nagaland', u'80', u'9', u'89', u'144', u'95', u'239', u'704', u'806', u'1510', u'8', u'2', u'10', u'78', u'59', u'137', u'1014', u'971', u'1985'], [u'Odisha', u'1392', u'287', u'1679', u'1632', u'587', u'2219', u'9857', u'4086', u'13943', u'813', u'293', u'1106', u'589', u'271', u'860', u'14283', u'5524', u'19807'], [u'Puducherry', u'444', u'130', u'574', u'477', u'208', u'685', u'1545', u'1077', u'2622', u'217', u'128', u'345', u'86', u'56', u'142', u'2769', u'1599', u'4368'], [u'Punjab', u'1439', u'482', u'1921', u'1438', u'870', u'2308', u'9751', u'6099', u'15850', u'359', u'545', u'904', u'518', u'632', u'1150', u'13505', u'8628', u'22133'], [u'Rajasthan', u'2222', u'534', u'2756', u'1247', u'519', u'1766', u'11173', u'6800', u'17973', u'61', u'20', u'81', u'490', u'390', u'880', u'15193', u'8263', u'23456'], [u'Sikkim', u'61', u'5', u'66', u'62', u'35', u'97', u'292', u'196', u'488', u'30', u'37', u'67', u'24', u'37', u'61', u'469', u'310', u'779'], [u'Tamil Nadu', u'6583', u'2157', u'8740', u'4148', u'2316', u'6464', u'38105', u'27967', u'66072', u'979', u'714', u'1693', u'905', u'1060', u'1965', u'50720', u'34214', u'84934'], [u'Tripura', u'201', u'44', u'245', u'121', u'61', u'182', u'730', u'372', u'1102', u'111', u'115', u'226', u'187', u'142', u'329', u'1350', u'734', u'2084'], [u'Uttar Pradesh', u'3791', u'826', u'4617', u'3641', u'1580', u'5221', u'10992', u'5567', u'16559', u'639', u'273', u'912', u'2266', u'1250', u'3516', u'21329', u'9496', u'30825'], [u'Uttrakhand', u'1234', u'246', u'1480', u'759', u'369', u'1128', u'2796', u'1550', u'4346', u'382', u'322', u'704', u'807', u'452', u'1259', u'5978', u'2939', u'8917'], [u'West Bengal', u'2374', u'426', u'2800', u'2404', u'991', u'3395', u'7593', u'3176', u'10769', u'953', u'323', u'1276', u'2207', u'1611', u'3818', u'15531', u'6527', u'22058']]}\n"
     ]
    }
   ],
   "source": [
    "print d"
   ]
  },
  {
   "cell_type": "code",
   "execution_count": 198,
   "metadata": {},
   "outputs": [
    {
     "name": "stdout",
     "output_type": "stream",
     "text": [
      "[u'Andaman and Nicobar Islands', u'5', u'0', u'5', u'32', u'2', u'34', u'47', u'28', u'75', u'5', u'1', u'6', u'15', u'21', u'36', u'104', u'52', u'156']\n"
     ]
    }
   ],
   "source": [
    "print(d[\"data\"][0])"
   ]
  },
  {
   "cell_type": "code",
   "execution_count": null,
   "metadata": {
    "collapsed": true
   },
   "outputs": [],
   "source": []
  }
 ],
 "metadata": {
  "kernelspec": {
   "display_name": "Python 3",
   "language": "python",
   "name": "python3"
  },
  "language_info": {
   "codemirror_mode": {
    "name": "ipython",
    "version": 3
   },
   "file_extension": ".py",
   "mimetype": "text/x-python",
   "name": "python",
   "nbconvert_exporter": "python",
   "pygments_lexer": "ipython3",
   "version": "3.6.3"
  }
 },
 "nbformat": 4,
 "nbformat_minor": 2
}
