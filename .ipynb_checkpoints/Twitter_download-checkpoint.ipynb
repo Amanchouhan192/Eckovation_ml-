{
 "cells": [
  {
   "cell_type": "code",
   "execution_count": 18,
   "metadata": {
    "collapsed": true
   },
   "outputs": [],
   "source": [
    "import json\n",
    "import os\n",
    "from twitter import *\n",
    "from twitter.oauth import OAuth, read_token_file, write_token_file\n",
    "\n",
    "oauth_token = \"2587111478-ckch3vvqsXrqWmsnSzVufyfCKu3C2OoCaKGPE6I\"\n",
    "oauth_token_secret = \"pAyWJp3SAdBmGz8bvbfib563tBs5eImNUCSZVtcY1J44H\"\n",
    "\n",
    "consumer_key = \"Ub0V2Ois539w922vNNposA6If\"\n",
    "consumer_secret = \"xw2WHMHRETSsg0RB2PJk4SimEv5Cgx98dF0XGryOBqRoI3Du47\"\n",
    "\n",
    "t = Twitter(auth=OAuth(oauth_token, oauth_token_secret, consumer_key, consumer_secret), secure=True, format='json')\n",
    "l = t.search.tweets(q=\"#demonetisation\",count=100)"
   ]
  },
  {
   "cell_type": "code",
   "execution_count": 19,
   "metadata": {
    "collapsed": true
   },
   "outputs": [],
   "source": [
    "MAX_ID = l[\"search_metadata\"][\"next_results\"].split('?')[1].split('&')[0].split('=')[1]\n",
    "i=0\n",
    "tweets=[]\n",
    "tweets.append(l)\n",
    "while True:\n",
    "    l = t.search.tweets(q=\"#demonetisation\",count=100,max_id=MAX_ID)\n",
    "    tweets.append(l)\n",
    "    try:\n",
    "        MAX_ID = l[\"search_metadata\"][\"next_results\"].split('?')[1].split('&')[0].split('=')[1]\n",
    "    except:\n",
    "        break"
   ]
  },
  {
   "cell_type": "code",
   "execution_count": 23,
   "metadata": {
    "collapsed": true
   },
   "outputs": [],
   "source": [
    "with open('c:\\\\ML and AI\\\\Twitter_tweets.json', 'w') as outfile:\n",
    "    json.dump(tweets, outfile)\n",
    "outfile.close()"
   ]
  },
  {
   "cell_type": "code",
   "execution_count": null,
   "metadata": {
    "collapsed": true
   },
   "outputs": [],
   "source": []
  }
 ],
 "metadata": {
  "kernelspec": {
   "display_name": "Python 3",
   "language": "python",
   "name": "python3"
  },
  "language_info": {
   "codemirror_mode": {
    "name": "ipython",
    "version": 3
   },
   "file_extension": ".py",
   "mimetype": "text/x-python",
   "name": "python",
   "nbconvert_exporter": "python",
   "pygments_lexer": "ipython3",
   "version": "3.6.3"
  }
 },
 "nbformat": 4,
 "nbformat_minor": 2
}
